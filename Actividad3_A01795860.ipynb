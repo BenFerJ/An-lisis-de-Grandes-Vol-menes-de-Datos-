{
  "cells": [
    {
      "cell_type": "markdown",
      "source": [
        "# **Maestría en Inteligencia Artificial Aplicada**\n",
        "\n",
        "## **Curso: Análisis de Grandes Volúmenes de Datos (TC4034.10)**\n",
        "\n",
        "### Tecnológico de Monterrey\n",
        "\n",
        "### Prof Dr. Iván Olmos Pineda\n",
        "\n",
        "## **Actividad 3**\n",
        "### **Aprendizaje supervisado y no supervisado.**"
      ],
      "metadata": {
        "id": "e_gS93UGPI7v"
      },
      "id": "e_gS93UGPI7v"
    },
    {
      "cell_type": "markdown",
      "source": [
        "# **Nombre y Matrícula**\n",
        "\n",
        "Daniel Iván Benitez Fernandez de Jauregui -\n",
        "A01795860"
      ],
      "metadata": {
        "id": "JLe1Vg1IU5rK"
      },
      "id": "JLe1Vg1IU5rK"
    },
    {
      "cell_type": "markdown",
      "id": "0d0541ec",
      "metadata": {
        "id": "0d0541ec"
      },
      "source": [
        "# 1. Introducción teórica"
      ]
    },
    {
      "cell_type": "markdown",
      "id": "fdfc83fc",
      "metadata": {
        "id": "fdfc83fc"
      },
      "source": [
        "\n",
        "# 1. Introducción teórica\n",
        "\n",
        "## Aprendizaje Supervisado\n",
        "\n",
        "El aprendizaje supervisado es una técnica de Machine Learning donde un modelo se entrena utilizando un conjunto de datos etiquetado, es decir, datos que contienen tanto las entradas (features) como las salidas deseadas (etiquetas o targets). El modelo aprende a mapear entradas a salidas, y luego puede generalizar para predecir la salida de nuevos datos no vistos.\n",
        "\n",
        "### Algoritmos comunes supervisados\n",
        "\n",
        "- **Árboles de Decisión (DecisionTreeClassifier)**: Algoritmo interpretable que divide el espacio de características con reglas basadas en los valores de las variables.\n",
        "- **Random Forest (RandomForestClassifier)**: Ensamble de múltiples árboles de decisión, lo que mejora la precisión y reduce el sobreajuste.\n",
        "- **Gradient Boosted Trees (GBTClassifier)**: Variante más potente que construye árboles secuencialmente, optimizando errores anteriores.\n",
        "- **Multilayer Perceptron (MLPClassifier)**: Red neuronal simple con múltiples capas, adecuada para datos no lineales.\n",
        "\n",
        "## Aprendizaje No Supervisado\n",
        "\n",
        "A diferencia del aprendizaje supervisado, el aprendizaje no supervisado no utiliza etiquetas. El objetivo es descubrir estructuras subyacentes en los datos, como agrupaciones o patrones.\n",
        "\n",
        "### Algoritmos comunes no supervisados\n",
        "\n",
        "- **K-Means**: Algoritmo de agrupamiento basado en la minimización de la distancia intra-cluster.\n",
        "- **Gaussian Mixture Models (GMM)**: Supone que los datos son una mezcla de varias distribuciones gaussianas.\n",
        "- **Power Iteration Clustering (PIC)**: Algoritmo basado en grafos y técnicas espectrales para encontrar grupos conectados.\n",
        "\n",
        "## Disponibilidad en PySpark\n",
        "\n",
        "PySpark, a través de `pyspark.ml`, ofrece implementaciones de los algoritmos antes mencionados tanto para clasificación supervisada (`classification`) como para agrupamiento no supervisado (`clustering`).\n"
      ]
    },
    {
      "cell_type": "code",
      "source": [
        "# Instalación de Java y PySpark\n",
        "!apt-get install openjdk-11-jdk -y\n",
        "!pip install pyspark\n",
        "!pip install -q kaggle\n",
        "\n",
        "# Configura las variables de entorno\n",
        "import os\n",
        "os.environ[\"JAVA_HOME\"] = \"/usr/lib/jvm/java-11-openjdk-amd64\"\n",
        "os.environ[\"KAGGLE_CONFIG_DIR\"] = \"/content\"\n",
        "\n",
        "# Subir kaggle.json manualmente\n",
        "from google.colab import files\n",
        "files.upload()"
      ],
      "metadata": {
        "colab": {
          "base_uri": "https://localhost:8080/",
          "height": 212
        },
        "id": "fl9d3FmIPDSl",
        "outputId": "160ab744-9202-4d49-b156-216b0a37c347"
      },
      "id": "fl9d3FmIPDSl",
      "execution_count": 1,
      "outputs": [
        {
          "output_type": "stream",
          "name": "stdout",
          "text": [
            "Reading package lists... Done\n",
            "Building dependency tree... Done\n",
            "Reading state information... Done\n",
            "openjdk-11-jdk is already the newest version (11.0.27+6~us1-0ubuntu1~22.04).\n",
            "0 upgraded, 0 newly installed, 0 to remove and 34 not upgraded.\n",
            "Requirement already satisfied: pyspark in /usr/local/lib/python3.11/dist-packages (3.5.1)\n",
            "Requirement already satisfied: py4j==0.10.9.7 in /usr/local/lib/python3.11/dist-packages (from pyspark) (0.10.9.7)\n"
          ]
        },
        {
          "output_type": "display_data",
          "data": {
            "text/plain": [
              "<IPython.core.display.HTML object>"
            ],
            "text/html": [
              "\n",
              "     <input type=\"file\" id=\"files-d13852f8-f29d-4f3c-a2e9-1279369a2a74\" name=\"files[]\" multiple disabled\n",
              "        style=\"border:none\" />\n",
              "     <output id=\"result-d13852f8-f29d-4f3c-a2e9-1279369a2a74\">\n",
              "      Upload widget is only available when the cell has been executed in the\n",
              "      current browser session. Please rerun this cell to enable.\n",
              "      </output>\n",
              "      <script>// Copyright 2017 Google LLC\n",
              "//\n",
              "// Licensed under the Apache License, Version 2.0 (the \"License\");\n",
              "// you may not use this file except in compliance with the License.\n",
              "// You may obtain a copy of the License at\n",
              "//\n",
              "//      http://www.apache.org/licenses/LICENSE-2.0\n",
              "//\n",
              "// Unless required by applicable law or agreed to in writing, software\n",
              "// distributed under the License is distributed on an \"AS IS\" BASIS,\n",
              "// WITHOUT WARRANTIES OR CONDITIONS OF ANY KIND, either express or implied.\n",
              "// See the License for the specific language governing permissions and\n",
              "// limitations under the License.\n",
              "\n",
              "/**\n",
              " * @fileoverview Helpers for google.colab Python module.\n",
              " */\n",
              "(function(scope) {\n",
              "function span(text, styleAttributes = {}) {\n",
              "  const element = document.createElement('span');\n",
              "  element.textContent = text;\n",
              "  for (const key of Object.keys(styleAttributes)) {\n",
              "    element.style[key] = styleAttributes[key];\n",
              "  }\n",
              "  return element;\n",
              "}\n",
              "\n",
              "// Max number of bytes which will be uploaded at a time.\n",
              "const MAX_PAYLOAD_SIZE = 100 * 1024;\n",
              "\n",
              "function _uploadFiles(inputId, outputId) {\n",
              "  const steps = uploadFilesStep(inputId, outputId);\n",
              "  const outputElement = document.getElementById(outputId);\n",
              "  // Cache steps on the outputElement to make it available for the next call\n",
              "  // to uploadFilesContinue from Python.\n",
              "  outputElement.steps = steps;\n",
              "\n",
              "  return _uploadFilesContinue(outputId);\n",
              "}\n",
              "\n",
              "// This is roughly an async generator (not supported in the browser yet),\n",
              "// where there are multiple asynchronous steps and the Python side is going\n",
              "// to poll for completion of each step.\n",
              "// This uses a Promise to block the python side on completion of each step,\n",
              "// then passes the result of the previous step as the input to the next step.\n",
              "function _uploadFilesContinue(outputId) {\n",
              "  const outputElement = document.getElementById(outputId);\n",
              "  const steps = outputElement.steps;\n",
              "\n",
              "  const next = steps.next(outputElement.lastPromiseValue);\n",
              "  return Promise.resolve(next.value.promise).then((value) => {\n",
              "    // Cache the last promise value to make it available to the next\n",
              "    // step of the generator.\n",
              "    outputElement.lastPromiseValue = value;\n",
              "    return next.value.response;\n",
              "  });\n",
              "}\n",
              "\n",
              "/**\n",
              " * Generator function which is called between each async step of the upload\n",
              " * process.\n",
              " * @param {string} inputId Element ID of the input file picker element.\n",
              " * @param {string} outputId Element ID of the output display.\n",
              " * @return {!Iterable<!Object>} Iterable of next steps.\n",
              " */\n",
              "function* uploadFilesStep(inputId, outputId) {\n",
              "  const inputElement = document.getElementById(inputId);\n",
              "  inputElement.disabled = false;\n",
              "\n",
              "  const outputElement = document.getElementById(outputId);\n",
              "  outputElement.innerHTML = '';\n",
              "\n",
              "  const pickedPromise = new Promise((resolve) => {\n",
              "    inputElement.addEventListener('change', (e) => {\n",
              "      resolve(e.target.files);\n",
              "    });\n",
              "  });\n",
              "\n",
              "  const cancel = document.createElement('button');\n",
              "  inputElement.parentElement.appendChild(cancel);\n",
              "  cancel.textContent = 'Cancel upload';\n",
              "  const cancelPromise = new Promise((resolve) => {\n",
              "    cancel.onclick = () => {\n",
              "      resolve(null);\n",
              "    };\n",
              "  });\n",
              "\n",
              "  // Wait for the user to pick the files.\n",
              "  const files = yield {\n",
              "    promise: Promise.race([pickedPromise, cancelPromise]),\n",
              "    response: {\n",
              "      action: 'starting',\n",
              "    }\n",
              "  };\n",
              "\n",
              "  cancel.remove();\n",
              "\n",
              "  // Disable the input element since further picks are not allowed.\n",
              "  inputElement.disabled = true;\n",
              "\n",
              "  if (!files) {\n",
              "    return {\n",
              "      response: {\n",
              "        action: 'complete',\n",
              "      }\n",
              "    };\n",
              "  }\n",
              "\n",
              "  for (const file of files) {\n",
              "    const li = document.createElement('li');\n",
              "    li.append(span(file.name, {fontWeight: 'bold'}));\n",
              "    li.append(span(\n",
              "        `(${file.type || 'n/a'}) - ${file.size} bytes, ` +\n",
              "        `last modified: ${\n",
              "            file.lastModifiedDate ? file.lastModifiedDate.toLocaleDateString() :\n",
              "                                    'n/a'} - `));\n",
              "    const percent = span('0% done');\n",
              "    li.appendChild(percent);\n",
              "\n",
              "    outputElement.appendChild(li);\n",
              "\n",
              "    const fileDataPromise = new Promise((resolve) => {\n",
              "      const reader = new FileReader();\n",
              "      reader.onload = (e) => {\n",
              "        resolve(e.target.result);\n",
              "      };\n",
              "      reader.readAsArrayBuffer(file);\n",
              "    });\n",
              "    // Wait for the data to be ready.\n",
              "    let fileData = yield {\n",
              "      promise: fileDataPromise,\n",
              "      response: {\n",
              "        action: 'continue',\n",
              "      }\n",
              "    };\n",
              "\n",
              "    // Use a chunked sending to avoid message size limits. See b/62115660.\n",
              "    let position = 0;\n",
              "    do {\n",
              "      const length = Math.min(fileData.byteLength - position, MAX_PAYLOAD_SIZE);\n",
              "      const chunk = new Uint8Array(fileData, position, length);\n",
              "      position += length;\n",
              "\n",
              "      const base64 = btoa(String.fromCharCode.apply(null, chunk));\n",
              "      yield {\n",
              "        response: {\n",
              "          action: 'append',\n",
              "          file: file.name,\n",
              "          data: base64,\n",
              "        },\n",
              "      };\n",
              "\n",
              "      let percentDone = fileData.byteLength === 0 ?\n",
              "          100 :\n",
              "          Math.round((position / fileData.byteLength) * 100);\n",
              "      percent.textContent = `${percentDone}% done`;\n",
              "\n",
              "    } while (position < fileData.byteLength);\n",
              "  }\n",
              "\n",
              "  // All done.\n",
              "  yield {\n",
              "    response: {\n",
              "      action: 'complete',\n",
              "    }\n",
              "  };\n",
              "}\n",
              "\n",
              "scope.google = scope.google || {};\n",
              "scope.google.colab = scope.google.colab || {};\n",
              "scope.google.colab._files = {\n",
              "  _uploadFiles,\n",
              "  _uploadFilesContinue,\n",
              "};\n",
              "})(self);\n",
              "</script> "
            ]
          },
          "metadata": {}
        },
        {
          "output_type": "stream",
          "name": "stdout",
          "text": [
            "Saving kaggle.json to kaggle (1).json\n"
          ]
        },
        {
          "output_type": "execute_result",
          "data": {
            "text/plain": [
              "{'kaggle (1).json': b'{\"username\":\"danielbenitezf\",\"key\":\"25722d8132805e1708bca2f5e7402b6f\"}'}"
            ]
          },
          "metadata": {},
          "execution_count": 1
        }
      ]
    },
    {
      "cell_type": "code",
      "source": [
        "# Descargar el dataset desde Kaggle (después de subir tu kaggle.json)\n",
        "!kaggle datasets download -d joebeachcapital/fifa-players\n",
        "!unzip -o fifa-players.zip -d ."
      ],
      "metadata": {
        "colab": {
          "base_uri": "https://localhost:8080/"
        },
        "id": "X7COVr77PQRJ",
        "outputId": "a7c86430-51dd-4e77-851b-f31b0790ea6e"
      },
      "id": "X7COVr77PQRJ",
      "execution_count": 2,
      "outputs": [
        {
          "output_type": "stream",
          "name": "stdout",
          "text": [
            "Warning: Your Kaggle API key is readable by other users on this system! To fix this, you can run 'chmod 600 /content/kaggle.json'\n",
            "Dataset URL: https://www.kaggle.com/datasets/joebeachcapital/fifa-players\n",
            "License(s): other\n",
            "fifa-players.zip: Skipping, found more recently modified local copy (use --force to force download)\n",
            "Archive:  fifa-players.zip\n",
            "  inflating: ./2024/all_players.csv  \n",
            "  inflating: ./2024/female_players.csv  \n",
            "  inflating: ./2024/male_players.csv  \n",
            "  inflating: ./female_coaches_23.csv  \n",
            "  inflating: ./female_players (legacy)_23.csv  \n",
            "  inflating: ./female_players_23.csv  \n",
            "  inflating: ./female_teams_23.csv   \n",
            "  inflating: ./fifa_2022_datasets/Career Mode female player datasets - FIFA 16-22.xlsx  \n",
            "  inflating: ./fifa_2022_datasets/Career Mode player datasets - FIFA 15-22.xlsx  \n",
            "  inflating: ./fifa_2022_datasets/female_players_16.csv  \n",
            "  inflating: ./fifa_2022_datasets/female_players_17.csv  \n",
            "  inflating: ./fifa_2022_datasets/female_players_18.csv  \n",
            "  inflating: ./fifa_2022_datasets/female_players_19.csv  \n",
            "  inflating: ./fifa_2022_datasets/female_players_20.csv  \n",
            "  inflating: ./fifa_2022_datasets/female_players_21.csv  \n",
            "  inflating: ./fifa_2022_datasets/female_players_22.csv  \n",
            "  inflating: ./fifa_2022_datasets/players_15.csv  \n",
            "  inflating: ./fifa_2022_datasets/players_16.csv  \n",
            "  inflating: ./fifa_2022_datasets/players_17.csv  \n",
            "  inflating: ./fifa_2022_datasets/players_18.csv  \n",
            "  inflating: ./fifa_2022_datasets/players_19.csv  \n",
            "  inflating: ./fifa_2022_datasets/players_20.csv  \n",
            "  inflating: ./fifa_2022_datasets/players_21.csv  \n",
            "  inflating: ./fifa_2022_datasets/players_22.csv  \n",
            "  inflating: ./male_coaches_23.csv   \n",
            "  inflating: ./male_players (legacy)_23.csv  \n",
            "  inflating: ./male_players_23.csv   \n",
            "  inflating: ./male_teams_23.csv     \n"
          ]
        }
      ]
    },
    {
      "cell_type": "code",
      "source": [
        "from pyspark.sql import SparkSession\n",
        "\n",
        "spark = SparkSession.builder.appName(\"MLFIFA\").getOrCreate()\n",
        "df = spark.read.csv(\"male_players_23.csv\", header=True, inferSchema=True)\n",
        "df.printSchema()\n",
        "df.show(5)\n"
      ],
      "metadata": {
        "colab": {
          "base_uri": "https://localhost:8080/"
        },
        "id": "93ojX93_Qze5",
        "outputId": "cc3c69b3-92f2-4e15-9f9d-c2ad9547ade3"
      },
      "id": "93ojX93_Qze5",
      "execution_count": 7,
      "outputs": [
        {
          "output_type": "stream",
          "name": "stdout",
          "text": [
            "root\n",
            " |-- player_id: integer (nullable = true)\n",
            " |-- player_url: string (nullable = true)\n",
            " |-- fifa_version: integer (nullable = true)\n",
            " |-- fifa_update: integer (nullable = true)\n",
            " |-- fifa_update_date: date (nullable = true)\n",
            " |-- short_name: string (nullable = true)\n",
            " |-- long_name: string (nullable = true)\n",
            " |-- player_positions: string (nullable = true)\n",
            " |-- overall: integer (nullable = true)\n",
            " |-- potential: integer (nullable = true)\n",
            " |-- value_eur: integer (nullable = true)\n",
            " |-- wage_eur: integer (nullable = true)\n",
            " |-- age: integer (nullable = true)\n",
            " |-- dob: date (nullable = true)\n",
            " |-- height_cm: integer (nullable = true)\n",
            " |-- weight_kg: integer (nullable = true)\n",
            " |-- league_id: integer (nullable = true)\n",
            " |-- league_name: string (nullable = true)\n",
            " |-- league_level: integer (nullable = true)\n",
            " |-- club_team_id: integer (nullable = true)\n",
            " |-- club_name: string (nullable = true)\n",
            " |-- club_position: string (nullable = true)\n",
            " |-- club_jersey_number: integer (nullable = true)\n",
            " |-- club_loaned_from: string (nullable = true)\n",
            " |-- club_joined_date: date (nullable = true)\n",
            " |-- club_contract_valid_until_year: integer (nullable = true)\n",
            " |-- nationality_id: integer (nullable = true)\n",
            " |-- nationality_name: string (nullable = true)\n",
            " |-- nation_team_id: integer (nullable = true)\n",
            " |-- nation_position: string (nullable = true)\n",
            " |-- nation_jersey_number: integer (nullable = true)\n",
            " |-- preferred_foot: string (nullable = true)\n",
            " |-- weak_foot: integer (nullable = true)\n",
            " |-- skill_moves: integer (nullable = true)\n",
            " |-- international_reputation: integer (nullable = true)\n",
            " |-- work_rate: string (nullable = true)\n",
            " |-- body_type: string (nullable = true)\n",
            " |-- real_face: string (nullable = true)\n",
            " |-- release_clause_eur: integer (nullable = true)\n",
            " |-- player_tags: string (nullable = true)\n",
            " |-- player_traits: string (nullable = true)\n",
            " |-- pace: integer (nullable = true)\n",
            " |-- shooting: integer (nullable = true)\n",
            " |-- passing: integer (nullable = true)\n",
            " |-- dribbling: integer (nullable = true)\n",
            " |-- defending: integer (nullable = true)\n",
            " |-- physic: integer (nullable = true)\n",
            " |-- attacking_crossing: integer (nullable = true)\n",
            " |-- attacking_finishing: integer (nullable = true)\n",
            " |-- attacking_heading_accuracy: integer (nullable = true)\n",
            " |-- attacking_short_passing: integer (nullable = true)\n",
            " |-- attacking_volleys: integer (nullable = true)\n",
            " |-- skill_dribbling: integer (nullable = true)\n",
            " |-- skill_curve: integer (nullable = true)\n",
            " |-- skill_fk_accuracy: integer (nullable = true)\n",
            " |-- skill_long_passing: integer (nullable = true)\n",
            " |-- skill_ball_control: integer (nullable = true)\n",
            " |-- movement_acceleration: integer (nullable = true)\n",
            " |-- movement_sprint_speed: integer (nullable = true)\n",
            " |-- movement_agility: integer (nullable = true)\n",
            " |-- movement_reactions: integer (nullable = true)\n",
            " |-- movement_balance: integer (nullable = true)\n",
            " |-- power_shot_power: integer (nullable = true)\n",
            " |-- power_jumping: integer (nullable = true)\n",
            " |-- power_stamina: integer (nullable = true)\n",
            " |-- power_strength: integer (nullable = true)\n",
            " |-- power_long_shots: integer (nullable = true)\n",
            " |-- mentality_aggression: integer (nullable = true)\n",
            " |-- mentality_interceptions: integer (nullable = true)\n",
            " |-- mentality_positioning: integer (nullable = true)\n",
            " |-- mentality_vision: integer (nullable = true)\n",
            " |-- mentality_penalties: integer (nullable = true)\n",
            " |-- mentality_composure: integer (nullable = true)\n",
            " |-- defending_marking_awareness: integer (nullable = true)\n",
            " |-- defending_standing_tackle: integer (nullable = true)\n",
            " |-- defending_sliding_tackle: integer (nullable = true)\n",
            " |-- goalkeeping_diving: integer (nullable = true)\n",
            " |-- goalkeeping_handling: integer (nullable = true)\n",
            " |-- goalkeeping_kicking: integer (nullable = true)\n",
            " |-- goalkeeping_positioning: integer (nullable = true)\n",
            " |-- goalkeeping_reflexes: integer (nullable = true)\n",
            " |-- goalkeeping_speed: integer (nullable = true)\n",
            " |-- ls: string (nullable = true)\n",
            " |-- st: string (nullable = true)\n",
            " |-- rs: string (nullable = true)\n",
            " |-- lw: string (nullable = true)\n",
            " |-- lf: string (nullable = true)\n",
            " |-- cf: string (nullable = true)\n",
            " |-- rf: string (nullable = true)\n",
            " |-- rw: string (nullable = true)\n",
            " |-- lam: string (nullable = true)\n",
            " |-- cam: string (nullable = true)\n",
            " |-- ram: string (nullable = true)\n",
            " |-- lm: string (nullable = true)\n",
            " |-- lcm: string (nullable = true)\n",
            " |-- cm: string (nullable = true)\n",
            " |-- rcm: string (nullable = true)\n",
            " |-- rm: string (nullable = true)\n",
            " |-- lwb: string (nullable = true)\n",
            " |-- ldm: string (nullable = true)\n",
            " |-- cdm: string (nullable = true)\n",
            " |-- rdm: string (nullable = true)\n",
            " |-- rwb: string (nullable = true)\n",
            " |-- lb: string (nullable = true)\n",
            " |-- lcb: string (nullable = true)\n",
            " |-- cb: string (nullable = true)\n",
            " |-- rcb: string (nullable = true)\n",
            " |-- rb: string (nullable = true)\n",
            " |-- gk: string (nullable = true)\n",
            " |-- player_face_url: string (nullable = true)\n",
            "\n",
            "+---------+--------------------+------------+-----------+----------------+--------------+--------------------+----------------+-------+---------+---------+--------+---+----------+---------+---------+---------+--------------+------------+------------+-------------------+-------------+------------------+----------------+----------------+------------------------------+--------------+----------------+--------------+---------------+--------------------+--------------+---------+-----------+------------------------+-------------+----------------+---------+------------------+--------------------+--------------------+----+--------+-------+---------+---------+------+------------------+-------------------+--------------------------+-----------------------+-----------------+---------------+-----------+-----------------+------------------+------------------+---------------------+---------------------+----------------+------------------+----------------+----------------+-------------+-------------+--------------+----------------+--------------------+-----------------------+---------------------+----------------+-------------------+-------------------+---------------------------+-------------------------+------------------------+------------------+--------------------+-------------------+-----------------------+--------------------+-----------------+----+----+----+---+---+---+---+---+----+----+----+----+----+----+----+----+----+----+----+----+----+----+----+----+----+----+----+--------------------+\n",
            "|player_id|          player_url|fifa_version|fifa_update|fifa_update_date|    short_name|           long_name|player_positions|overall|potential|value_eur|wage_eur|age|       dob|height_cm|weight_kg|league_id|   league_name|league_level|club_team_id|          club_name|club_position|club_jersey_number|club_loaned_from|club_joined_date|club_contract_valid_until_year|nationality_id|nationality_name|nation_team_id|nation_position|nation_jersey_number|preferred_foot|weak_foot|skill_moves|international_reputation|    work_rate|       body_type|real_face|release_clause_eur|         player_tags|       player_traits|pace|shooting|passing|dribbling|defending|physic|attacking_crossing|attacking_finishing|attacking_heading_accuracy|attacking_short_passing|attacking_volleys|skill_dribbling|skill_curve|skill_fk_accuracy|skill_long_passing|skill_ball_control|movement_acceleration|movement_sprint_speed|movement_agility|movement_reactions|movement_balance|power_shot_power|power_jumping|power_stamina|power_strength|power_long_shots|mentality_aggression|mentality_interceptions|mentality_positioning|mentality_vision|mentality_penalties|mentality_composure|defending_marking_awareness|defending_standing_tackle|defending_sliding_tackle|goalkeeping_diving|goalkeeping_handling|goalkeeping_kicking|goalkeeping_positioning|goalkeeping_reflexes|goalkeeping_speed|  ls|  st|  rs| lw| lf| cf| rf| rw| lam| cam| ram|  lm| lcm|  cm| rcm|  rm| lwb| ldm| cdm| rdm| rwb|  lb| lcb|  cb| rcb|  rb|  gk|     player_face_url|\n",
            "+---------+--------------------+------------+-----------+----------------+--------------+--------------------+----------------+-------+---------+---------+--------+---+----------+---------+---------+---------+--------------+------------+------------+-------------------+-------------+------------------+----------------+----------------+------------------------------+--------------+----------------+--------------+---------------+--------------------+--------------+---------+-----------+------------------------+-------------+----------------+---------+------------------+--------------------+--------------------+----+--------+-------+---------+---------+------+------------------+-------------------+--------------------------+-----------------------+-----------------+---------------+-----------+-----------------+------------------+------------------+---------------------+---------------------+----------------+------------------+----------------+----------------+-------------+-------------+--------------+----------------+--------------------+-----------------------+---------------------+----------------+-------------------+-------------------+---------------------------+-------------------------+------------------------+------------------+--------------------+-------------------+-----------------------+--------------------+-----------------+----+----+----+---+---+---+---+---+----+----+----+----+----+----+----+----+----+----+----+----+----+----+----+----+----+----+----+--------------------+\n",
            "|   158023|/player/158023/li...|          23|          9|      2023-01-13|      L. Messi|Lionel Andrés Mes...|              RW|     91|       91| 54000000|  195000| 35|1987-06-24|      169|       67|       16|       Ligue 1|           1|          73|Paris Saint Germain|           RS|                30|            NULL|      2021-08-10|                          2023|            52|       Argentina|          1369|             RW|                  10|          Left|        4|          4|                       5|      Low/Low|          Unique|      Yes|          99900000|#Dribbler, #Dista...|Finesse Shot, Lon...|  81|      89|     90|       94|       34|    64|                84|                 90|                        70|                     91|               88|             95|         93|               93|                90|                93|                   87|                   76|              91|                92|              95|              86|           68|           70|            68|              91|                  44|                     40|                   93|              94|                 75|                 96|                         20|                       35|                      24|                 6|                  11|                 15|                     14|                   8|             NULL|87+3|87+3|87+3| 90| 91| 91| 91| 90|92-1|92-1|92-1|89+2|85+3|85+3|85+3|89+2|64+3|63+3|63+3|63+3|64+3|59+3|50+3|50+3|50+3|59+3|19+3|https://cdn.sofif...|\n",
            "|   165153|/player/165153/ka...|          23|          9|      2023-01-13|    K. Benzema|       Karim Benzema|          CF, ST|     91|       91| 64000000|  450000| 34|1987-12-19|      185|       81|       53|       La Liga|           1|         243|        Real Madrid|           CF|                 9|            NULL|      2009-07-09|                          2023|            18|          France|          NULL|           NULL|                NULL|         Right|        4|          4|                       4|Medium/Medium|Normal (170-185)|      Yes|         131200000|#Poacher, #Clinic...|Leadership, Fines...|  80|      88|     83|       87|       39|    78|                75|                 92|                        90|                     89|               88|             87|         82|               73|                76|                91|                   79|                   80|              78|                92|              72|              87|           79|           82|            82|              80|                  63|                     39|                   92|              89|                 84|                 90|                         43|                       24|                      18|                13|                  11|                  5|                      5|                   7|             NULL|89+2|89+2|89+2| 87| 89| 89| 89| 87|88+3|88+3|88+3|86+3|81+3|81+3|81+3|86+3|64+3|64+3|64+3|64+3|64+3|60+3|55+3|55+3|55+3|60+3|18+3|https://cdn.sofif...|\n",
            "|   188545|/player/188545/ro...|          23|          9|      2023-01-13|R. Lewandowski|  Robert Lewandowski|              ST|     91|       91| 84000000|  420000| 33|1988-08-21|      185|       81|       53|       La Liga|           1|         241|       FC Barcelona|           ST|                 9|            NULL|      2022-07-18|                          2025|            37|          Poland|          1353|             ST|                   9|         Right|        4|          4|                       5|  High/Medium|          Unique|      Yes|         172200000|#Aerial Threat, #...|Solid Player, Fin...|  75|      91|     79|       86|       44|    83|                71|                 94|                        91|                     84|               89|             85|         79|               85|                70|                89|                   76|                   75|              77|                93|              82|              91|           85|           76|            87|              84|                  81|                     49|                   94|              81|                 90|                 88|                         35|                       42|                      19|                15|                   6|                 12|                      8|                  10|             NULL|89+2|89+2|89+2| 85| 88| 88| 88| 85|85+3|85+3|85+3|83+3|80+3|80+3|80+3|83+3|64+3|66+3|66+3|66+3|64+3|61+3|60+3|60+3|60+3|61+3|19+3|https://cdn.sofif...|\n",
            "|   192985|/player/192985/ke...|          23|          9|      2023-01-13|  K. De Bruyne|     Kevin De Bruyne|         CM, CAM|     91|       91|107500000|  350000| 31|1991-06-28|      181|       75|       13|Premier League|           1|          10|    Manchester City|          RCM|                17|            NULL|      2015-08-30|                          2025|             7|         Belgium|          1325|             RF|                   7|         Right|        5|          4|                       4|  High/Medium|          Unique|      Yes|         198900000|#Dribbler, #Playm...|Injury Prone, Lea...|  74|      88|     93|       87|       63|    77|                94|                 85|                        55|                     93|               83|             87|         89|               83|                93|                90|                   76|                   73|              76|                91|              78|              92|           63|           89|            74|              91|                  75|                     64|                   88|              94|                 83|                 89|                         65|                       65|                      53|                15|                  13|                  5|                     10|                  13|             NULL|83+3|83+3|83+3| 87| 87| 87| 87| 87|89+2|89+2|89+2|88+3|89+2|89+2|89+2|88+3|78+3|79+3|79+3|79+3|78+3|74+3|68+3|68+3|68+3|74+3|21+3|https://cdn.sofif...|\n",
            "|   231747|/player/231747/ky...|          23|          9|      2023-01-13|     K. Mbappé|Kylian Mbappé Lottin|          ST, LW|     91|       95|190500000|  230000| 23|1998-12-20|      182|       73|       16|       Ligue 1|           1|          73|Paris Saint Germain|           LS|                 7|            NULL|      2018-07-01|                          2024|            18|          France|          1335|             LW|                  10|         Right|        4|          5|                       4|     High/Low|          Unique|      Yes|         366700000|#Speedster, #Drib...|Solid Player, Fla...|  97|      89|     80|       92|       36|    76|                78|                 93|                        72|                     85|               83|             93|         80|               69|                71|                91|                   97|                   97|              93|                93|              81|              88|           77|           87|            76|              82|                  64|                     38|                   92|              83|                 80|                 88|                         26|                       34|                      32|                13|                   5|                  7|                     11|                   6|             NULL|89+3|89+3|89+3| 90| 90| 90| 90| 90|89+3|89+3|89+3|89+3|81+3|81+3|81+3|89+3|67+3|63+3|63+3|63+3|67+3|63+3|54+3|54+3|54+3|63+3|18+3|https://cdn.sofif...|\n",
            "+---------+--------------------+------------+-----------+----------------+--------------+--------------------+----------------+-------+---------+---------+--------+---+----------+---------+---------+---------+--------------+------------+------------+-------------------+-------------+------------------+----------------+----------------+------------------------------+--------------+----------------+--------------+---------------+--------------------+--------------+---------+-----------+------------------------+-------------+----------------+---------+------------------+--------------------+--------------------+----+--------+-------+---------+---------+------+------------------+-------------------+--------------------------+-----------------------+-----------------+---------------+-----------+-----------------+------------------+------------------+---------------------+---------------------+----------------+------------------+----------------+----------------+-------------+-------------+--------------+----------------+--------------------+-----------------------+---------------------+----------------+-------------------+-------------------+---------------------------+-------------------------+------------------------+------------------+--------------------+-------------------+-----------------------+--------------------+-----------------+----+----+----+---+---+---+---+---+----+----+----+----+----+----+----+----+----+----+----+----+----+----+----+----+----+----+----+--------------------+\n",
            "only showing top 5 rows\n",
            "\n"
          ]
        }
      ]
    },
    {
      "cell_type": "markdown",
      "id": "0928a7cc",
      "metadata": {
        "id": "0928a7cc"
      },
      "source": [
        "# 2. Selección de los datos"
      ]
    },
    {
      "cell_type": "code",
      "execution_count": 8,
      "id": "ccf81745",
      "metadata": {
        "colab": {
          "base_uri": "https://localhost:8080/"
        },
        "id": "ccf81745",
        "outputId": "db4a8c3e-9f16-4352-ac00-30fcea4fbb39"
      },
      "outputs": [
        {
          "output_type": "stream",
          "name": "stdout",
          "text": [
            "+---------+--------------------+------------+-----------+----------------+------------+--------------------+----------------+-------+---------+---------+--------+---+----------+---------+---------+---------+------------------+------------+------------+----------+-------------+------------------+----------------+----------------+------------------------------+--------------+----------------+--------------+---------------+--------------------+--------------+---------+-----------+------------------------+-------------+--------------+---------+------------------+-----------+-------------+----+--------+-------+---------+---------+------+------------------+-------------------+--------------------------+-----------------------+-----------------+---------------+-----------+-----------------+------------------+------------------+---------------------+---------------------+----------------+------------------+----------------+----------------+-------------+-------------+--------------+----------------+--------------------+-----------------------+---------------------+----------------+-------------------+-------------------+---------------------------+-------------------------+------------------------+------------------+--------------------+-------------------+-----------------------+--------------------+-----------------+----+----+----+---+---+---+---+---+----+----+----+----+----+----+----+----+----+----+----+----+----+----+----+----+----+----+----+--------------------+\n",
            "|player_id|          player_url|fifa_version|fifa_update|fifa_update_date|  short_name|           long_name|player_positions|overall|potential|value_eur|wage_eur|age|       dob|height_cm|weight_kg|league_id|       league_name|league_level|club_team_id| club_name|club_position|club_jersey_number|club_loaned_from|club_joined_date|club_contract_valid_until_year|nationality_id|nationality_name|nation_team_id|nation_position|nation_jersey_number|preferred_foot|weak_foot|skill_moves|international_reputation|    work_rate|     body_type|real_face|release_clause_eur|player_tags|player_traits|pace|shooting|passing|dribbling|defending|physic|attacking_crossing|attacking_finishing|attacking_heading_accuracy|attacking_short_passing|attacking_volleys|skill_dribbling|skill_curve|skill_fk_accuracy|skill_long_passing|skill_ball_control|movement_acceleration|movement_sprint_speed|movement_agility|movement_reactions|movement_balance|power_shot_power|power_jumping|power_stamina|power_strength|power_long_shots|mentality_aggression|mentality_interceptions|mentality_positioning|mentality_vision|mentality_penalties|mentality_composure|defending_marking_awareness|defending_standing_tackle|defending_sliding_tackle|goalkeeping_diving|goalkeeping_handling|goalkeeping_kicking|goalkeeping_positioning|goalkeeping_reflexes|goalkeeping_speed|  ls|  st|  rs| lw| lf| cf| rf| rw| lam| cam| ram|  lm| lcm|  cm| rcm|  rm| lwb| ldm| cdm| rdm| rwb|  lb| lcb|  cb| rcb|  rb|  gk|     player_face_url|\n",
            "+---------+--------------------+------------+-----------+----------------+------------+--------------------+----------------+-------+---------+---------+--------+---+----------+---------+---------+---------+------------------+------------+------------+----------+-------------+------------------+----------------+----------------+------------------------------+--------------+----------------+--------------+---------------+--------------------+--------------+---------+-----------+------------------------+-------------+--------------+---------+------------------+-----------+-------------+----+--------+-------+---------+---------+------+------------------+-------------------+--------------------------+-----------------------+-----------------+---------------+-----------+-----------------+------------------+------------------+---------------------+---------------------+----------------+------------------+----------------+----------------+-------------+-------------+--------------+----------------+--------------------+-----------------------+---------------------+----------------+-------------------+-------------------+---------------------------+-------------------------+------------------------+------------------+--------------------+-------------------+-----------------------+--------------------+-----------------+----+----+----+---+---+---+---+---+----+----+----+----+----+----+----+----+----+----+----+----+----+----+----+----+----+----+----+--------------------+\n",
            "|   236927|/player/236927/dj...|          18|          7|      2017-10-05|   D. Atoiyi|  Djamalidine Atoiyi|             CDM|     55|       68|   130000|    2000| 19|1997-08-05|      170|       60|       16|           Ligue 1|           1|         294|    Troyes|          RES|                32|            NULL|      2016-12-09|                          2020|            18|          France|          NULL|           NULL|                NULL|         Right|        2|          2|                       1|Medium/Medium|   Lean (170-)|       No|            394000|       NULL|         NULL|  75|      40|     48|       50|       55|    47|                38|                 31|                        46|                     55|               36|             48|         33|               40|                53|                45|                   75|                   75|              52|                51|              87|              58|           58|           63|            32|              38|                  60|                     60|                   51|              50|                 47|                 49|                         49|                       59|                      58|                15|                  14|                 13|                     12|                  11|             NULL|48+1|48+1|48+1| 49| 50| 50| 50| 49|50+1|50+1|50+1|51+1|51+1|51+1|51+1|51+1|55+1|54+1|54+1|54+1|55+1|56+1|53+1|53+1|53+1|56+1|17+1|https://cdn.sofif...|\n",
            "|   236946|/player/236946/ni...|          19|         42|      2019-03-04|    N. Baeza|Nicolás Eduardo B...|          LB, LM|     58|       64|   150000|    1000| 21|1997-05-07|      175|       75|      335|  Primera Division|           1|      111327|Huachipato|           LB|                23|            NULL|      2018-01-01|                          2021|            55|           Chile|          NULL|           NULL|                NULL|         Right|        3|          2|                       1|  High/Medium|Lean (170-185)|       No|            233000|       NULL|         NULL|  64|      40|     54|       58|       56|    61|                45|                 38|                        46|                     59|               30|             55|         35|               33|                58|                61|                   62|                   66|              61|                60|              60|              49|           61|           67|            62|              35|                  52|                     58|                   55|              60|                 42|                 41|                         55|                       60|                      50|                 9|                   9|                  6|                      7|                  14|             NULL|52+1|52+1|52+1| 55| 55| 55| 55| 55|56+1|56+1|56+1|57+1|58+1|58+1|58+1|57+1|57+1|59+1|59+1|59+1|57+1|57+1|56+1|56+1|56+1|57+1|15+1|https://cdn.sofif...|\n",
            "|   235978|/player/235978/ju...|          17|         15|      2016-11-28|      Kaiser|Juan Carlos Lázar...|              CB|     60|       68|   240000|    2000| 20|1996-04-04|      180|       70|       54|         La Liga 2|           2|        1853|   Levante|          RES|                30|            NULL|      2016-07-22|                          2017|            45|           Spain|          NULL|           NULL|                NULL|         Right|        3|          2|                       1|Medium/Medium|Lean (170-185)|       No|              NULL|       NULL|         NULL|  56|      34|     42|       43|       61|    57|                37|                 29|                        56|                     50|               29|             36|         34|               32|                42|                46|                   53|                   58|              54|                53|              60|              47|           67|           61|            55|              33|                  55|                     59|                   25|              38|                 41|                 47|                         60|                       65|                      64|                 9|                  14|                  5|                      6|                   6|             NULL|42+1|42+1|42+1| 41| 41| 41| 41| 41|42+1|42+1|42+1|43+1|45+1|45+1|45+1|43+1|54+1|54+1|54+1|54+1|54+1|56+1|59+1|59+1|59+1|56+1|13+1|https://cdn.sofif...|\n",
            "|   199982|/player/199982/jo...|          15|         43|      2015-05-29|J. Van Damme|Joachim Marc Van ...|     CDM, CM, CB|     65|       69|   350000|    5000| 22|1991-07-23|      195|       89|        4|Jupiler Pro League|           1|      110724|  Mechelen|          SUB|                20|            NULL|      2012-07-01|                          2018|             7|         Belgium|          NULL|           NULL|                NULL|          Left|        3|          2|                       1|Medium/Medium| Normal (185+)|       No|              NULL|       NULL|         NULL|  42|      54|     59|       53|       60|    77|                46|                 46|                        70|                     67|               38|             51|         37|               50|                66|                62|                   38|                   45|              42|                69|              34|              68|           61|           67|            83|              61|                  78|                     64|                   53|              62|                 54|               NULL|                         55|                       60|                      54|                 5|                  13|                 14|                     11|                  10|             NULL|  56|  56|  56| 54| 58| 58| 58| 54|  59|  59|  59|  57|  62|  62|  62|  57|  58|  65|  65|  65|  58|  61|  64|  64|  64|  61|  13|https://cdn.sofif...|\n",
            "|   229826|/player/229826/al...|          17|          7|      2016-10-27|A. Juraidini|Alfredo Juraidini...|              RM|     62|       69|   400000|    2000| 21|1994-09-19|      170|       69|      341|           Liga MX|           1|      110152|    Puebla|          RES|                86|            NULL|      2015-07-01|                          2023|            83|          Mexico|          NULL|           NULL|                NULL|         Right|        2|          3|                       1|Medium/Medium|   Lean (170-)|       No|              NULL|       NULL|         NULL|  79|      56|     56|       65|       38|    48|                61|                 55|                        40|                     56|               47|             66|         52|               46|                54|                60|                   78|                   79|              78|                48|              78|              64|           45|           61|            46|              53|                  39|                     26|                   57|              58|                 45|                 54|                         34|                       46|                      49|                10|                  12|                  8|                      5|                   7|             NULL|57+1|57+1|57+1| 62| 60| 60| 60| 62|60+1|60+1|60+1|61+1|55+1|55+1|55+1|61+1|53+1|47+1|47+1|47+1|53+1|51+1|43+1|43+1|43+1|51+1|13+1|https://cdn.sofif...|\n",
            "+---------+--------------------+------------+-----------+----------------+------------+--------------------+----------------+-------+---------+---------+--------+---+----------+---------+---------+---------+------------------+------------+------------+----------+-------------+------------------+----------------+----------------+------------------------------+--------------+----------------+--------------+---------------+--------------------+--------------+---------+-----------+------------------------+-------------+--------------+---------+------------------+-----------+-------------+----+--------+-------+---------+---------+------+------------------+-------------------+--------------------------+-----------------------+-----------------+---------------+-----------+-----------------+------------------+------------------+---------------------+---------------------+----------------+------------------+----------------+----------------+-------------+-------------+--------------+----------------+--------------------+-----------------------+---------------------+----------------+-------------------+-------------------+---------------------------+-------------------------+------------------------+------------------+--------------------+-------------------+-----------------------+--------------------+-----------------+----+----+----+---+---+---+---+---+----+----+----+----+----+----+----+----+----+----+----+----+----+----+----+----+----+----+----+--------------------+\n",
            "only showing top 5 rows\n",
            "\n",
            "Cantidad de registros en M antes de dropna: 9000\n"
          ]
        }
      ],
      "source": [
        "\n",
        "# 2. Selección de los datos\n",
        "\n",
        "from pyspark.sql import SparkSession\n",
        "from pyspark.sql.functions import col, rand\n",
        "\n",
        "spark = SparkSession.builder.appName(\"MLFIFA\").getOrCreate()\n",
        "\n",
        "# Cargar dataset (se debe descargar previamente de Kaggle)\n",
        "df = spark.read.csv(\"male_players_23.csv\", header=True, inferSchema=True)\n",
        "\n",
        "# Aplicar reglas de particionamiento según edad y valor de mercado\n",
        "partitions = {\n",
        "    \"joven_bajo\": df.filter((col(\"age\") <= 22) & (col(\"value_eur\") <= 450000)),\n",
        "    \"joven_medio\": df.filter((col(\"age\") <= 22) & (col(\"value_eur\") > 450000) & (col(\"value_eur\") <= 1200000)),\n",
        "    \"joven_alto\": df.filter((col(\"age\") <= 22) & (col(\"value_eur\") > 1200000)),\n",
        "    \"adulto_bajo\": df.filter((col(\"age\") > 22) & (col(\"age\") <= 27) & (col(\"value_eur\") <= 450000)),\n",
        "    \"adulto_medio\": df.filter((col(\"age\") > 22) & (col(\"age\") <= 27) & (col(\"value_eur\") > 450000) & (col(\"value_eur\") <= 1200000)),\n",
        "    \"adulto_alto\": df.filter((col(\"age\") > 22) & (col(\"age\") <= 27) & (col(\"value_eur\") > 1200000)),\n",
        "    \"veterano_bajo\": df.filter((col(\"age\") >= 28) & (col(\"value_eur\") <= 450000)),\n",
        "    \"veterano_medio\": df.filter((col(\"age\") >= 28) & (col(\"value_eur\") > 450000) & (col(\"value_eur\") <= 1200000)),\n",
        "    \"veterano_alto\": df.filter((col(\"age\") >= 28) & (col(\"value_eur\") > 1200000))\n",
        "}\n",
        "\n",
        "# Muestreo simple o sistemático según categoría\n",
        "from functools import reduce\n",
        "from pyspark.sql import DataFrame\n",
        "\n",
        "muestras = [\n",
        "    partitions[\"joven_bajo\"].orderBy(rand()).limit(1000),\n",
        "    partitions[\"joven_medio\"].orderBy(rand()).limit(1000),\n",
        "    partitions[\"joven_alto\"].orderBy(\"potential\").limit(1000),\n",
        "    partitions[\"adulto_bajo\"].orderBy(rand()).limit(1000),\n",
        "    partitions[\"adulto_medio\"].orderBy(rand()).limit(1000),\n",
        "    partitions[\"adulto_alto\"].orderBy(\"value_eur\").limit(1000),\n",
        "    partitions[\"veterano_bajo\"].orderBy(rand()).limit(1000),\n",
        "    partitions[\"veterano_medio\"].orderBy(rand()).limit(1000),\n",
        "    partitions[\"veterano_alto\"].orderBy(\"overall\").limit(1000)\n",
        "]\n",
        "\n",
        "M = reduce(DataFrame.unionAll, muestras)\n",
        "M.show(5)\n",
        "\n",
        "\n",
        "initial_count_M = M.count()\n",
        "print(f\"Cantidad de registros en M antes de dropna: {initial_count_M}\")"
      ]
    },
    {
      "cell_type": "code",
      "source": [
        "from pyspark.sql.functions import col, sum, isnan\n",
        "from pyspark.sql.functions import rand\n",
        "\n",
        "M = M.orderBy(rand()).limit(1000)\n",
        "\n",
        "\n",
        "M.select([sum(col(c).isNull().cast(\"int\")).alias(c) for c in M.columns]).show()\n",
        "\n",
        "\n",
        "columns_required = [\"age\", \"value_eur\", \"overall\", \"potential\", \"pace\", \"shooting\",\n",
        "                    \"passing\", \"dribbling\", \"defending\", \"physic\", \"preferred_foot\"]\n",
        "\n",
        "M = M.dropna(subset=columns_required)\n",
        "\n",
        "print(\"Cantidad de registros tras dropna de columnas clave:\", M.count())"
      ],
      "metadata": {
        "id": "YXgu3WSEvMLU"
      },
      "id": "YXgu3WSEvMLU",
      "execution_count": null,
      "outputs": []
    },
    {
      "cell_type": "markdown",
      "id": "5f7d7f72",
      "metadata": {
        "id": "5f7d7f72"
      },
      "source": [
        "# 3. Preparación de los datos"
      ]
    },
    {
      "cell_type": "code",
      "execution_count": 5,
      "id": "c1bcc073",
      "metadata": {
        "colab": {
          "base_uri": "https://localhost:8080/",
          "height": 564
        },
        "id": "c1bcc073",
        "outputId": "6c203c77-44c2-463c-a195-713ce7382e12"
      },
      "outputs": [
        {
          "output_type": "stream",
          "name": "stdout",
          "text": [
            "Cantidad de registros en M después de dropna: 0\n",
            "DataFrame M is empty after dropping nulls. Cannot fit StringIndexer.\n"
          ]
        },
        {
          "output_type": "error",
          "ename": "IllegalArgumentException",
          "evalue": "foot_indexed does not exist. Available: player_id, player_url, fifa_version, fifa_update, fifa_update_date, short_name, long_name, player_positions, overall, potential, value_eur, wage_eur, age, dob, height_cm, weight_kg, league_id, league_name, league_level, club_team_id, club_name, club_position, club_jersey_number, club_loaned_from, club_joined_date, club_contract_valid_until_year, nationality_id, nationality_name, nation_team_id, nation_position, nation_jersey_number, preferred_foot, weak_foot, skill_moves, international_reputation, work_rate, body_type, real_face, release_clause_eur, player_tags, player_traits, pace, shooting, passing, dribbling, defending, physic, attacking_crossing, attacking_finishing, attacking_heading_accuracy, attacking_short_passing, attacking_volleys, skill_dribbling, skill_curve, skill_fk_accuracy, skill_long_passing, skill_ball_control, movement_acceleration, movement_sprint_speed, movement_agility, movement_reactions, movement_balance, power_shot_power, power_jumping, power_stamina, power_strength, power_long_shots, mentality_aggression, mentality_interceptions, mentality_positioning, mentality_vision, mentality_penalties, mentality_composure, defending_marking_awareness, defending_standing_tackle, defending_sliding_tackle, goalkeeping_diving, goalkeeping_handling, goalkeeping_kicking, goalkeeping_positioning, goalkeeping_reflexes, goalkeeping_speed, ls, st, rs, lw, lf, cf, rf, rw, lam, cam, ram, lm, lcm, cm, rcm, rm, lwb, ldm, cdm, rdm, rwb, lb, lcb, cb, rcb, rb, gk, player_face_url",
          "traceback": [
            "\u001b[0;31m---------------------------------------------------------------------------\u001b[0m",
            "\u001b[0;31mIllegalArgumentException\u001b[0m                  Traceback (most recent call last)",
            "\u001b[0;32m<ipython-input-5-8cb12c816e37>\u001b[0m in \u001b[0;36m<cell line: 0>\u001b[0;34m()\u001b[0m\n\u001b[1;32m     22\u001b[0m \u001b[0massembler\u001b[0m \u001b[0;34m=\u001b[0m \u001b[0mVectorAssembler\u001b[0m\u001b[0;34m(\u001b[0m\u001b[0minputCols\u001b[0m\u001b[0;34m=\u001b[0m\u001b[0mfeatures\u001b[0m\u001b[0;34m,\u001b[0m \u001b[0moutputCol\u001b[0m\u001b[0;34m=\u001b[0m\u001b[0;34m\"features\"\u001b[0m\u001b[0;34m)\u001b[0m\u001b[0;34m\u001b[0m\u001b[0;34m\u001b[0m\u001b[0m\n\u001b[1;32m     23\u001b[0m \u001b[0;31m# Checar si M esta vacia transofrmar con assembler\u001b[0m\u001b[0;34m\u001b[0m\u001b[0;34m\u001b[0m\u001b[0m\n\u001b[0;32m---> 24\u001b[0;31m \u001b[0mM\u001b[0m \u001b[0;34m=\u001b[0m \u001b[0massembler\u001b[0m\u001b[0;34m.\u001b[0m\u001b[0mtransform\u001b[0m\u001b[0;34m(\u001b[0m\u001b[0mM\u001b[0m\u001b[0;34m)\u001b[0m\u001b[0;34m\u001b[0m\u001b[0;34m\u001b[0m\u001b[0m\n\u001b[0m\u001b[1;32m     25\u001b[0m \u001b[0;34m\u001b[0m\u001b[0m\n\u001b[1;32m     26\u001b[0m \u001b[0mprint\u001b[0m\u001b[0;34m(\u001b[0m\u001b[0;34m\"Cantidad de registros en M después de transformaciones:\"\u001b[0m\u001b[0;34m,\u001b[0m \u001b[0mM\u001b[0m\u001b[0;34m.\u001b[0m\u001b[0mcount\u001b[0m\u001b[0;34m(\u001b[0m\u001b[0;34m)\u001b[0m\u001b[0;34m)\u001b[0m\u001b[0;34m\u001b[0m\u001b[0;34m\u001b[0m\u001b[0m\n",
            "\u001b[0;32m/usr/local/lib/python3.11/dist-packages/pyspark/ml/base.py\u001b[0m in \u001b[0;36mtransform\u001b[0;34m(self, dataset, params)\u001b[0m\n\u001b[1;32m    260\u001b[0m                 \u001b[0;32mreturn\u001b[0m \u001b[0mself\u001b[0m\u001b[0;34m.\u001b[0m\u001b[0mcopy\u001b[0m\u001b[0;34m(\u001b[0m\u001b[0mparams\u001b[0m\u001b[0;34m)\u001b[0m\u001b[0;34m.\u001b[0m\u001b[0m_transform\u001b[0m\u001b[0;34m(\u001b[0m\u001b[0mdataset\u001b[0m\u001b[0;34m)\u001b[0m\u001b[0;34m\u001b[0m\u001b[0;34m\u001b[0m\u001b[0m\n\u001b[1;32m    261\u001b[0m             \u001b[0;32melse\u001b[0m\u001b[0;34m:\u001b[0m\u001b[0;34m\u001b[0m\u001b[0;34m\u001b[0m\u001b[0m\n\u001b[0;32m--> 262\u001b[0;31m                 \u001b[0;32mreturn\u001b[0m \u001b[0mself\u001b[0m\u001b[0;34m.\u001b[0m\u001b[0m_transform\u001b[0m\u001b[0;34m(\u001b[0m\u001b[0mdataset\u001b[0m\u001b[0;34m)\u001b[0m\u001b[0;34m\u001b[0m\u001b[0;34m\u001b[0m\u001b[0m\n\u001b[0m\u001b[1;32m    263\u001b[0m         \u001b[0;32melse\u001b[0m\u001b[0;34m:\u001b[0m\u001b[0;34m\u001b[0m\u001b[0;34m\u001b[0m\u001b[0m\n\u001b[1;32m    264\u001b[0m             \u001b[0;32mraise\u001b[0m \u001b[0mTypeError\u001b[0m\u001b[0;34m(\u001b[0m\u001b[0;34m\"Params must be a param map but got %s.\"\u001b[0m \u001b[0;34m%\u001b[0m \u001b[0mtype\u001b[0m\u001b[0;34m(\u001b[0m\u001b[0mparams\u001b[0m\u001b[0;34m)\u001b[0m\u001b[0;34m)\u001b[0m\u001b[0;34m\u001b[0m\u001b[0;34m\u001b[0m\u001b[0m\n",
            "\u001b[0;32m/usr/local/lib/python3.11/dist-packages/pyspark/ml/wrapper.py\u001b[0m in \u001b[0;36m_transform\u001b[0;34m(self, dataset)\u001b[0m\n\u001b[1;32m    396\u001b[0m \u001b[0;34m\u001b[0m\u001b[0m\n\u001b[1;32m    397\u001b[0m         \u001b[0mself\u001b[0m\u001b[0;34m.\u001b[0m\u001b[0m_transfer_params_to_java\u001b[0m\u001b[0;34m(\u001b[0m\u001b[0;34m)\u001b[0m\u001b[0;34m\u001b[0m\u001b[0;34m\u001b[0m\u001b[0m\n\u001b[0;32m--> 398\u001b[0;31m         \u001b[0;32mreturn\u001b[0m \u001b[0mDataFrame\u001b[0m\u001b[0;34m(\u001b[0m\u001b[0mself\u001b[0m\u001b[0;34m.\u001b[0m\u001b[0m_java_obj\u001b[0m\u001b[0;34m.\u001b[0m\u001b[0mtransform\u001b[0m\u001b[0;34m(\u001b[0m\u001b[0mdataset\u001b[0m\u001b[0;34m.\u001b[0m\u001b[0m_jdf\u001b[0m\u001b[0;34m)\u001b[0m\u001b[0;34m,\u001b[0m \u001b[0mdataset\u001b[0m\u001b[0;34m.\u001b[0m\u001b[0msparkSession\u001b[0m\u001b[0;34m)\u001b[0m\u001b[0;34m\u001b[0m\u001b[0;34m\u001b[0m\u001b[0m\n\u001b[0m\u001b[1;32m    399\u001b[0m \u001b[0;34m\u001b[0m\u001b[0m\n\u001b[1;32m    400\u001b[0m \u001b[0;34m\u001b[0m\u001b[0m\n",
            "\u001b[0;32m/usr/local/lib/python3.11/dist-packages/py4j/java_gateway.py\u001b[0m in \u001b[0;36m__call__\u001b[0;34m(self, *args)\u001b[0m\n\u001b[1;32m   1320\u001b[0m \u001b[0;34m\u001b[0m\u001b[0m\n\u001b[1;32m   1321\u001b[0m         \u001b[0manswer\u001b[0m \u001b[0;34m=\u001b[0m \u001b[0mself\u001b[0m\u001b[0;34m.\u001b[0m\u001b[0mgateway_client\u001b[0m\u001b[0;34m.\u001b[0m\u001b[0msend_command\u001b[0m\u001b[0;34m(\u001b[0m\u001b[0mcommand\u001b[0m\u001b[0;34m)\u001b[0m\u001b[0;34m\u001b[0m\u001b[0;34m\u001b[0m\u001b[0m\n\u001b[0;32m-> 1322\u001b[0;31m         return_value = get_return_value(\n\u001b[0m\u001b[1;32m   1323\u001b[0m             answer, self.gateway_client, self.target_id, self.name)\n\u001b[1;32m   1324\u001b[0m \u001b[0;34m\u001b[0m\u001b[0m\n",
            "\u001b[0;32m/usr/local/lib/python3.11/dist-packages/pyspark/errors/exceptions/captured.py\u001b[0m in \u001b[0;36mdeco\u001b[0;34m(*a, **kw)\u001b[0m\n\u001b[1;32m    183\u001b[0m                 \u001b[0;31m# Hide where the exception came from that shows a non-Pythonic\u001b[0m\u001b[0;34m\u001b[0m\u001b[0;34m\u001b[0m\u001b[0m\n\u001b[1;32m    184\u001b[0m                 \u001b[0;31m# JVM exception message.\u001b[0m\u001b[0;34m\u001b[0m\u001b[0;34m\u001b[0m\u001b[0m\n\u001b[0;32m--> 185\u001b[0;31m                 \u001b[0;32mraise\u001b[0m \u001b[0mconverted\u001b[0m \u001b[0;32mfrom\u001b[0m \u001b[0;32mNone\u001b[0m\u001b[0;34m\u001b[0m\u001b[0;34m\u001b[0m\u001b[0m\n\u001b[0m\u001b[1;32m    186\u001b[0m             \u001b[0;32melse\u001b[0m\u001b[0;34m:\u001b[0m\u001b[0;34m\u001b[0m\u001b[0;34m\u001b[0m\u001b[0m\n\u001b[1;32m    187\u001b[0m                 \u001b[0;32mraise\u001b[0m\u001b[0;34m\u001b[0m\u001b[0;34m\u001b[0m\u001b[0m\n",
            "\u001b[0;31mIllegalArgumentException\u001b[0m: foot_indexed does not exist. Available: player_id, player_url, fifa_version, fifa_update, fifa_update_date, short_name, long_name, player_positions, overall, potential, value_eur, wage_eur, age, dob, height_cm, weight_kg, league_id, league_name, league_level, club_team_id, club_name, club_position, club_jersey_number, club_loaned_from, club_joined_date, club_contract_valid_until_year, nationality_id, nationality_name, nation_team_id, nation_position, nation_jersey_number, preferred_foot, weak_foot, skill_moves, international_reputation, work_rate, body_type, real_face, release_clause_eur, player_tags, player_traits, pace, shooting, passing, dribbling, defending, physic, attacking_crossing, attacking_finishing, attacking_heading_accuracy, attacking_short_passing, attacking_volleys, skill_dribbling, skill_curve, skill_fk_accuracy, skill_long_passing, skill_ball_control, movement_acceleration, movement_sprint_speed, movement_agility, movement_reactions, movement_balance, power_shot_power, power_jumping, power_stamina, power_strength, power_long_shots, mentality_aggression, mentality_interceptions, mentality_positioning, mentality_vision, mentality_penalties, mentality_composure, defending_marking_awareness, defending_standing_tackle, defending_sliding_tackle, goalkeeping_diving, goalkeeping_handling, goalkeeping_kicking, goalkeeping_positioning, goalkeeping_reflexes, goalkeeping_speed, ls, st, rs, lw, lf, cf, rf, rw, lam, cam, ram, lm, lcm..."
          ]
        }
      ],
      "source": [
        "\n",
        "# 3. Preparación de los datos\n",
        "\n",
        "from pyspark.ml.feature import StringIndexer, VectorAssembler\n",
        "\n",
        "\n",
        "# Eliminar nulos\n",
        "M = M.dropna()\n",
        "count_after_dropna = M.count()\n",
        "\n",
        "print(f\"Cantidad de registros en M después de dropna: {count_after_dropna}\")\n",
        "\n",
        "\n",
        "# Indexar variable categórica\n",
        "indexer = StringIndexer(inputCol=\"preferred_foot\", outputCol=\"foot_indexed\")\n",
        "# Checar si M esta vacia antes de pasar el indexer\n",
        "if M.count() == 0:\n",
        "    print(\"DataFrame M is empty after dropping nulls. Cannot fit StringIndexer.\")\n",
        "else:\n",
        "    M = indexer.fit(M).transform(M)\n",
        "\n",
        "# VectorAssembler para las variables predictoras\n",
        "features = [\"age\", \"potential\", \"value_eur\", \"pace\", \"shooting\", \"passing\", \"dribbling\", \"defending\", \"physic\", \"foot_indexed\"]\n",
        "assembler = VectorAssembler(inputCols=features, outputCol=\"features\")\n",
        "# Checar si M esta vacia transofrmar con assembler\n",
        "M = assembler.transform(M)\n",
        "\n",
        "print(\"Cantidad de registros en M después de transformaciones:\", M.count())\n",
        "# Solo despliega si M no esta vacia\n",
        "if M.count() > 0:\n",
        "    M.select(\"overall\", \"features\").show(5)\n"
      ]
    },
    {
      "cell_type": "markdown",
      "id": "02e24943",
      "metadata": {
        "id": "02e24943"
      },
      "source": [
        "# 4. Preparación del conjunto de entrenamiento y prueba"
      ]
    },
    {
      "cell_type": "code",
      "execution_count": 7,
      "id": "9e700921",
      "metadata": {
        "id": "9e700921"
      },
      "outputs": [],
      "source": [
        "\n",
        "# 4. División en entrenamiento y prueba\n",
        "\n",
        "# Checar si M no esta vacía antes de dividir\n",
        "if M.count() == 0:\n",
        "    print(\"DataFrame M is empty. Cannot split into train and test sets.\")\n",
        "else:\n",
        "    train, test = M.randomSplit([0.7, 0.3], seed=42)\n",
        "    print(f\"Cantidad de registros en train: {train.count()}\")\n",
        "    print(f\"Cantidad de registros en test: {test.count()}\")\n",
        "\n"
      ]
    },
    {
      "cell_type": "markdown",
      "id": "1936f23e",
      "metadata": {
        "id": "1936f23e"
      },
      "source": [
        "# 5. Construcción de modelos de aprendizaje supervisado y no supervisado"
      ]
    },
    {
      "cell_type": "code",
      "execution_count": 8,
      "id": "c9e492ea",
      "metadata": {
        "colab": {
          "base_uri": "https://localhost:8080/",
          "height": 738
        },
        "id": "c9e492ea",
        "outputId": "1c21b5d6-3903-4ca3-92b5-f01425e54b45"
      },
      "outputs": [
        {
          "output_type": "error",
          "ename": "Py4JJavaError",
          "evalue": "An error occurred while calling o242.fit.\n: org.apache.spark.SparkException: ML algorithm was given empty dataset.\n\tat org.apache.spark.ml.util.DatasetUtils$.getNumClasses(DatasetUtils.scala:195)\n\tat org.apache.spark.ml.classification.Classifier.getNumClasses(Classifier.scala:75)\n\tat org.apache.spark.ml.classification.RandomForestClassifier.$anonfun$train$1(RandomForestClassifier.scala:144)\n\tat org.apache.spark.ml.util.Instrumentation$.$anonfun$instrumented$1(Instrumentation.scala:191)\n\tat scala.util.Try$.apply(Try.scala:213)\n\tat org.apache.spark.ml.util.Instrumentation$.instrumented(Instrumentation.scala:191)\n\tat org.apache.spark.ml.classification.RandomForestClassifier.train(RandomForestClassifier.scala:139)\n\tat org.apache.spark.ml.classification.RandomForestClassifier.train(RandomForestClassifier.scala:47)\n\tat org.apache.spark.ml.Predictor.fit(Predictor.scala:114)\n\tat java.base/jdk.internal.reflect.NativeMethodAccessorImpl.invoke0(Native Method)\n\tat java.base/jdk.internal.reflect.NativeMethodAccessorImpl.invoke(NativeMethodAccessorImpl.java:62)\n\tat java.base/jdk.internal.reflect.DelegatingMethodAccessorImpl.invoke(DelegatingMethodAccessorImpl.java:43)\n\tat java.base/java.lang.reflect.Method.invoke(Method.java:566)\n\tat py4j.reflection.MethodInvoker.invoke(MethodInvoker.java:244)\n\tat py4j.reflection.ReflectionEngine.invoke(ReflectionEngine.java:374)\n\tat py4j.Gateway.invoke(Gateway.java:282)\n\tat py4j.commands.AbstractCommand.invokeMethod(AbstractCommand.java:132)\n\tat py4j.commands.CallCommand.execute(CallCommand.java:79)\n\tat py4j.ClientServerConnection.waitForCommands(ClientServerConnection.java:182)\n\tat py4j.ClientServerConnection.run(ClientServerConnection.java:106)\n\tat java.base/java.lang.Thread.run(Thread.java:829)\n",
          "traceback": [
            "\u001b[0;31m---------------------------------------------------------------------------\u001b[0m",
            "\u001b[0;31mPy4JJavaError\u001b[0m                             Traceback (most recent call last)",
            "\u001b[0;32m<ipython-input-8-60cd6ec7b18e>\u001b[0m in \u001b[0;36m<cell line: 0>\u001b[0;34m()\u001b[0m\n\u001b[1;32m      5\u001b[0m \u001b[0;34m\u001b[0m\u001b[0m\n\u001b[1;32m      6\u001b[0m \u001b[0mrf\u001b[0m \u001b[0;34m=\u001b[0m \u001b[0mRandomForestClassifier\u001b[0m\u001b[0;34m(\u001b[0m\u001b[0mlabelCol\u001b[0m\u001b[0;34m=\u001b[0m\u001b[0;34m\"overall\"\u001b[0m\u001b[0;34m,\u001b[0m \u001b[0mfeaturesCol\u001b[0m\u001b[0;34m=\u001b[0m\u001b[0;34m\"features\"\u001b[0m\u001b[0;34m,\u001b[0m \u001b[0mnumTrees\u001b[0m\u001b[0;34m=\u001b[0m\u001b[0;36m10\u001b[0m\u001b[0;34m)\u001b[0m\u001b[0;34m\u001b[0m\u001b[0;34m\u001b[0m\u001b[0m\n\u001b[0;32m----> 7\u001b[0;31m \u001b[0mmodelo_rf\u001b[0m \u001b[0;34m=\u001b[0m \u001b[0mrf\u001b[0m\u001b[0;34m.\u001b[0m\u001b[0mfit\u001b[0m\u001b[0;34m(\u001b[0m\u001b[0mtrain\u001b[0m\u001b[0;34m)\u001b[0m\u001b[0;34m\u001b[0m\u001b[0;34m\u001b[0m\u001b[0m\n\u001b[0m\u001b[1;32m      8\u001b[0m \u001b[0mpredicciones\u001b[0m \u001b[0;34m=\u001b[0m \u001b[0mmodelo_rf\u001b[0m\u001b[0;34m.\u001b[0m\u001b[0mtransform\u001b[0m\u001b[0;34m(\u001b[0m\u001b[0mtest\u001b[0m\u001b[0;34m)\u001b[0m\u001b[0;34m\u001b[0m\u001b[0;34m\u001b[0m\u001b[0m\n\u001b[1;32m      9\u001b[0m \u001b[0;34m\u001b[0m\u001b[0m\n",
            "\u001b[0;32m/usr/local/lib/python3.11/dist-packages/pyspark/ml/base.py\u001b[0m in \u001b[0;36mfit\u001b[0;34m(self, dataset, params)\u001b[0m\n\u001b[1;32m    203\u001b[0m                 \u001b[0;32mreturn\u001b[0m \u001b[0mself\u001b[0m\u001b[0;34m.\u001b[0m\u001b[0mcopy\u001b[0m\u001b[0;34m(\u001b[0m\u001b[0mparams\u001b[0m\u001b[0;34m)\u001b[0m\u001b[0;34m.\u001b[0m\u001b[0m_fit\u001b[0m\u001b[0;34m(\u001b[0m\u001b[0mdataset\u001b[0m\u001b[0;34m)\u001b[0m\u001b[0;34m\u001b[0m\u001b[0;34m\u001b[0m\u001b[0m\n\u001b[1;32m    204\u001b[0m             \u001b[0;32melse\u001b[0m\u001b[0;34m:\u001b[0m\u001b[0;34m\u001b[0m\u001b[0;34m\u001b[0m\u001b[0m\n\u001b[0;32m--> 205\u001b[0;31m                 \u001b[0;32mreturn\u001b[0m \u001b[0mself\u001b[0m\u001b[0;34m.\u001b[0m\u001b[0m_fit\u001b[0m\u001b[0;34m(\u001b[0m\u001b[0mdataset\u001b[0m\u001b[0;34m)\u001b[0m\u001b[0;34m\u001b[0m\u001b[0;34m\u001b[0m\u001b[0m\n\u001b[0m\u001b[1;32m    206\u001b[0m         \u001b[0;32melse\u001b[0m\u001b[0;34m:\u001b[0m\u001b[0;34m\u001b[0m\u001b[0;34m\u001b[0m\u001b[0m\n\u001b[1;32m    207\u001b[0m             raise TypeError(\n",
            "\u001b[0;32m/usr/local/lib/python3.11/dist-packages/pyspark/ml/wrapper.py\u001b[0m in \u001b[0;36m_fit\u001b[0;34m(self, dataset)\u001b[0m\n\u001b[1;32m    379\u001b[0m \u001b[0;34m\u001b[0m\u001b[0m\n\u001b[1;32m    380\u001b[0m     \u001b[0;32mdef\u001b[0m \u001b[0m_fit\u001b[0m\u001b[0;34m(\u001b[0m\u001b[0mself\u001b[0m\u001b[0;34m,\u001b[0m \u001b[0mdataset\u001b[0m\u001b[0;34m:\u001b[0m \u001b[0mDataFrame\u001b[0m\u001b[0;34m)\u001b[0m \u001b[0;34m->\u001b[0m \u001b[0mJM\u001b[0m\u001b[0;34m:\u001b[0m\u001b[0;34m\u001b[0m\u001b[0;34m\u001b[0m\u001b[0m\n\u001b[0;32m--> 381\u001b[0;31m         \u001b[0mjava_model\u001b[0m \u001b[0;34m=\u001b[0m \u001b[0mself\u001b[0m\u001b[0;34m.\u001b[0m\u001b[0m_fit_java\u001b[0m\u001b[0;34m(\u001b[0m\u001b[0mdataset\u001b[0m\u001b[0;34m)\u001b[0m\u001b[0;34m\u001b[0m\u001b[0;34m\u001b[0m\u001b[0m\n\u001b[0m\u001b[1;32m    382\u001b[0m         \u001b[0mmodel\u001b[0m \u001b[0;34m=\u001b[0m \u001b[0mself\u001b[0m\u001b[0;34m.\u001b[0m\u001b[0m_create_model\u001b[0m\u001b[0;34m(\u001b[0m\u001b[0mjava_model\u001b[0m\u001b[0;34m)\u001b[0m\u001b[0;34m\u001b[0m\u001b[0;34m\u001b[0m\u001b[0m\n\u001b[1;32m    383\u001b[0m         \u001b[0;32mreturn\u001b[0m \u001b[0mself\u001b[0m\u001b[0;34m.\u001b[0m\u001b[0m_copyValues\u001b[0m\u001b[0;34m(\u001b[0m\u001b[0mmodel\u001b[0m\u001b[0;34m)\u001b[0m\u001b[0;34m\u001b[0m\u001b[0;34m\u001b[0m\u001b[0m\n",
            "\u001b[0;32m/usr/local/lib/python3.11/dist-packages/pyspark/ml/wrapper.py\u001b[0m in \u001b[0;36m_fit_java\u001b[0;34m(self, dataset)\u001b[0m\n\u001b[1;32m    376\u001b[0m \u001b[0;34m\u001b[0m\u001b[0m\n\u001b[1;32m    377\u001b[0m         \u001b[0mself\u001b[0m\u001b[0;34m.\u001b[0m\u001b[0m_transfer_params_to_java\u001b[0m\u001b[0;34m(\u001b[0m\u001b[0;34m)\u001b[0m\u001b[0;34m\u001b[0m\u001b[0;34m\u001b[0m\u001b[0m\n\u001b[0;32m--> 378\u001b[0;31m         \u001b[0;32mreturn\u001b[0m \u001b[0mself\u001b[0m\u001b[0;34m.\u001b[0m\u001b[0m_java_obj\u001b[0m\u001b[0;34m.\u001b[0m\u001b[0mfit\u001b[0m\u001b[0;34m(\u001b[0m\u001b[0mdataset\u001b[0m\u001b[0;34m.\u001b[0m\u001b[0m_jdf\u001b[0m\u001b[0;34m)\u001b[0m\u001b[0;34m\u001b[0m\u001b[0;34m\u001b[0m\u001b[0m\n\u001b[0m\u001b[1;32m    379\u001b[0m \u001b[0;34m\u001b[0m\u001b[0m\n\u001b[1;32m    380\u001b[0m     \u001b[0;32mdef\u001b[0m \u001b[0m_fit\u001b[0m\u001b[0;34m(\u001b[0m\u001b[0mself\u001b[0m\u001b[0;34m,\u001b[0m \u001b[0mdataset\u001b[0m\u001b[0;34m:\u001b[0m \u001b[0mDataFrame\u001b[0m\u001b[0;34m)\u001b[0m \u001b[0;34m->\u001b[0m \u001b[0mJM\u001b[0m\u001b[0;34m:\u001b[0m\u001b[0;34m\u001b[0m\u001b[0;34m\u001b[0m\u001b[0m\n",
            "\u001b[0;32m/usr/local/lib/python3.11/dist-packages/py4j/java_gateway.py\u001b[0m in \u001b[0;36m__call__\u001b[0;34m(self, *args)\u001b[0m\n\u001b[1;32m   1320\u001b[0m \u001b[0;34m\u001b[0m\u001b[0m\n\u001b[1;32m   1321\u001b[0m         \u001b[0manswer\u001b[0m \u001b[0;34m=\u001b[0m \u001b[0mself\u001b[0m\u001b[0;34m.\u001b[0m\u001b[0mgateway_client\u001b[0m\u001b[0;34m.\u001b[0m\u001b[0msend_command\u001b[0m\u001b[0;34m(\u001b[0m\u001b[0mcommand\u001b[0m\u001b[0;34m)\u001b[0m\u001b[0;34m\u001b[0m\u001b[0;34m\u001b[0m\u001b[0m\n\u001b[0;32m-> 1322\u001b[0;31m         return_value = get_return_value(\n\u001b[0m\u001b[1;32m   1323\u001b[0m             answer, self.gateway_client, self.target_id, self.name)\n\u001b[1;32m   1324\u001b[0m \u001b[0;34m\u001b[0m\u001b[0m\n",
            "\u001b[0;32m/usr/local/lib/python3.11/dist-packages/pyspark/errors/exceptions/captured.py\u001b[0m in \u001b[0;36mdeco\u001b[0;34m(*a, **kw)\u001b[0m\n\u001b[1;32m    177\u001b[0m     \u001b[0;32mdef\u001b[0m \u001b[0mdeco\u001b[0m\u001b[0;34m(\u001b[0m\u001b[0;34m*\u001b[0m\u001b[0ma\u001b[0m\u001b[0;34m:\u001b[0m \u001b[0mAny\u001b[0m\u001b[0;34m,\u001b[0m \u001b[0;34m**\u001b[0m\u001b[0mkw\u001b[0m\u001b[0;34m:\u001b[0m \u001b[0mAny\u001b[0m\u001b[0;34m)\u001b[0m \u001b[0;34m->\u001b[0m \u001b[0mAny\u001b[0m\u001b[0;34m:\u001b[0m\u001b[0;34m\u001b[0m\u001b[0;34m\u001b[0m\u001b[0m\n\u001b[1;32m    178\u001b[0m         \u001b[0;32mtry\u001b[0m\u001b[0;34m:\u001b[0m\u001b[0;34m\u001b[0m\u001b[0;34m\u001b[0m\u001b[0m\n\u001b[0;32m--> 179\u001b[0;31m             \u001b[0;32mreturn\u001b[0m \u001b[0mf\u001b[0m\u001b[0;34m(\u001b[0m\u001b[0;34m*\u001b[0m\u001b[0ma\u001b[0m\u001b[0;34m,\u001b[0m \u001b[0;34m**\u001b[0m\u001b[0mkw\u001b[0m\u001b[0;34m)\u001b[0m\u001b[0;34m\u001b[0m\u001b[0;34m\u001b[0m\u001b[0m\n\u001b[0m\u001b[1;32m    180\u001b[0m         \u001b[0;32mexcept\u001b[0m \u001b[0mPy4JJavaError\u001b[0m \u001b[0;32mas\u001b[0m \u001b[0me\u001b[0m\u001b[0;34m:\u001b[0m\u001b[0;34m\u001b[0m\u001b[0;34m\u001b[0m\u001b[0m\n\u001b[1;32m    181\u001b[0m             \u001b[0mconverted\u001b[0m \u001b[0;34m=\u001b[0m \u001b[0mconvert_exception\u001b[0m\u001b[0;34m(\u001b[0m\u001b[0me\u001b[0m\u001b[0;34m.\u001b[0m\u001b[0mjava_exception\u001b[0m\u001b[0;34m)\u001b[0m\u001b[0;34m\u001b[0m\u001b[0;34m\u001b[0m\u001b[0m\n",
            "\u001b[0;32m/usr/local/lib/python3.11/dist-packages/py4j/protocol.py\u001b[0m in \u001b[0;36mget_return_value\u001b[0;34m(answer, gateway_client, target_id, name)\u001b[0m\n\u001b[1;32m    324\u001b[0m             \u001b[0mvalue\u001b[0m \u001b[0;34m=\u001b[0m \u001b[0mOUTPUT_CONVERTER\u001b[0m\u001b[0;34m[\u001b[0m\u001b[0mtype\u001b[0m\u001b[0;34m]\u001b[0m\u001b[0;34m(\u001b[0m\u001b[0manswer\u001b[0m\u001b[0;34m[\u001b[0m\u001b[0;36m2\u001b[0m\u001b[0;34m:\u001b[0m\u001b[0;34m]\u001b[0m\u001b[0;34m,\u001b[0m \u001b[0mgateway_client\u001b[0m\u001b[0;34m)\u001b[0m\u001b[0;34m\u001b[0m\u001b[0;34m\u001b[0m\u001b[0m\n\u001b[1;32m    325\u001b[0m             \u001b[0;32mif\u001b[0m \u001b[0manswer\u001b[0m\u001b[0;34m[\u001b[0m\u001b[0;36m1\u001b[0m\u001b[0;34m]\u001b[0m \u001b[0;34m==\u001b[0m \u001b[0mREFERENCE_TYPE\u001b[0m\u001b[0;34m:\u001b[0m\u001b[0;34m\u001b[0m\u001b[0;34m\u001b[0m\u001b[0m\n\u001b[0;32m--> 326\u001b[0;31m                 raise Py4JJavaError(\n\u001b[0m\u001b[1;32m    327\u001b[0m                     \u001b[0;34m\"An error occurred while calling {0}{1}{2}.\\n\"\u001b[0m\u001b[0;34m.\u001b[0m\u001b[0;34m\u001b[0m\u001b[0;34m\u001b[0m\u001b[0m\n\u001b[1;32m    328\u001b[0m                     format(target_id, \".\", name), value)\n",
            "\u001b[0;31mPy4JJavaError\u001b[0m: An error occurred while calling o242.fit.\n: org.apache.spark.SparkException: ML algorithm was given empty dataset.\n\tat org.apache.spark.ml.util.DatasetUtils$.getNumClasses(DatasetUtils.scala:195)\n\tat org.apache.spark.ml.classification.Classifier.getNumClasses(Classifier.scala:75)\n\tat org.apache.spark.ml.classification.RandomForestClassifier.$anonfun$train$1(RandomForestClassifier.scala:144)\n\tat org.apache.spark.ml.util.Instrumentation$.$anonfun$instrumented$1(Instrumentation.scala:191)\n\tat scala.util.Try$.apply(Try.scala:213)\n\tat org.apache.spark.ml.util.Instrumentation$.instrumented(Instrumentation.scala:191)\n\tat org.apache.spark.ml.classification.RandomForestClassifier.train(RandomForestClassifier.scala:139)\n\tat org.apache.spark.ml.classification.RandomForestClassifier.train(RandomForestClassifier.scala:47)\n\tat org.apache.spark.ml.Predictor.fit(Predictor.scala:114)\n\tat java.base/jdk.internal.reflect.NativeMethodAccessorImpl.invoke0(Native Method)\n\tat java.base/jdk.internal.reflect.NativeMethodAccessorImpl.invoke(NativeMethodAccessorImpl.java:62)\n\tat java.base/jdk.internal.reflect.DelegatingMethodAccessorImpl.invoke(DelegatingMethodAccessorImpl.java:43)\n\tat java.base/java.lang.reflect.Method.invoke(Method.java:566)\n\tat py4j.reflection.MethodInvoker.invoke(MethodInvoker.java:244)\n\tat py4j.reflection.ReflectionEngine.invoke(ReflectionEngine.java:374)\n\tat py4j.Gateway.invoke(Gateway.java:282)\n\tat py4j.commands.AbstractCommand.invokeMethod(AbstractCommand.java:132)\n\tat py4j.commands.CallCommand.execute(CallCommand.java:79)\n\tat py4j.ClientServerConnection.waitForCommands(ClientServerConnection.java:182)\n\tat py4j.ClientServerConnection.run(ClientServerConnection.java:106)\n\tat java.base/java.lang.Thread.run(Thread.java:829)\n"
          ]
        }
      ],
      "source": [
        "\n",
        "# 5.1 Aprendizaje Supervisado - Random Forest\n",
        "\n",
        "from pyspark.ml.classification import RandomForestClassifier\n",
        "from pyspark.ml.evaluation import MulticlassClassificationEvaluator\n",
        "\n",
        "rf = RandomForestClassifier(labelCol=\"overall\", featuresCol=\"features\", numTrees=10)\n",
        "modelo_rf = rf.fit(train)\n",
        "predicciones = modelo_rf.transform(test)\n",
        "\n",
        "evaluador = MulticlassClassificationEvaluator(labelCol=\"overall\", predictionCol=\"prediction\", metricName=\"accuracy\")\n",
        "accuracy = evaluador.evaluate(predicciones)\n",
        "print(\"Precisión (Accuracy) del modelo supervisado:\", accuracy)\n",
        "\n",
        "# 5.2 Aprendizaje No Supervisado - KMeans\n",
        "\n",
        "from pyspark.ml.clustering import KMeans\n",
        "\n",
        "kmeans = KMeans(k=4, featuresCol=\"features\", seed=42)\n",
        "modelo_kmeans = kmeans.fit(M)\n",
        "clusters = modelo_kmeans.transform(M)\n",
        "clusters.select(\"prediction\").show(5)\n"
      ]
    },
    {
      "cell_type": "markdown",
      "id": "0b1a819e",
      "metadata": {
        "id": "0b1a819e"
      },
      "source": [
        "## Conclusiones\n",
        "\n",
        "Este notebook demuestra cómo construir un flujo completo de Machine Learning en PySpark con FIFA 23, aplicando tanto aprendizaje supervisado como no supervisado, respetando las técnicas de muestreo y segmentación detalladas en el proyecto."
      ]
    }
  ],
  "metadata": {
    "colab": {
      "provenance": []
    },
    "language_info": {
      "name": "python"
    },
    "kernelspec": {
      "name": "python3",
      "display_name": "Python 3"
    }
  },
  "nbformat": 4,
  "nbformat_minor": 5
}