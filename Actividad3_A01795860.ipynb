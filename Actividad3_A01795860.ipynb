{
  "cells": [
    {
      "cell_type": "markdown",
      "source": [
        "# **Maestría en Inteligencia Artificial Aplicada**\n",
        "\n",
        "## **Curso: Análisis de Grandes Volúmenes de Datos (TC4034.10)**\n",
        "\n",
        "### Tecnológico de Monterrey\n",
        "\n",
        "### Prof Dr. Iván Olmos Pineda\n",
        "\n",
        "## **Actividad 3**\n",
        "### **Aprendizaje supervisado y no supervisado.**"
      ],
      "metadata": {
        "id": "e_gS93UGPI7v"
      },
      "id": "e_gS93UGPI7v"
    },
    {
      "cell_type": "markdown",
      "source": [
        "# **Nombre y Matrícula**\n",
        "\n",
        "Daniel Iván Benitez Fernandez de Jauregui -\n",
        "A01795860"
      ],
      "metadata": {
        "id": "JLe1Vg1IU5rK"
      },
      "id": "JLe1Vg1IU5rK"
    },
    {
      "cell_type": "markdown",
      "id": "0d0541ec",
      "metadata": {
        "id": "0d0541ec"
      },
      "source": [
        "# 1. Introducción teórica"
      ]
    },
    {
      "cell_type": "markdown",
      "id": "fdfc83fc",
      "metadata": {
        "id": "fdfc83fc"
      },
      "source": [
        "\n",
        "# 1. Introducción teórica\n",
        "\n",
        "## Aprendizaje Supervisado\n",
        "\n",
        "El aprendizaje supervisado es una técnica de Machine Learning donde un modelo se entrena utilizando un conjunto de datos etiquetado, es decir, datos que contienen tanto las entradas (features) como las salidas deseadas (etiquetas o targets). El modelo aprende a mapear entradas a salidas, y luego puede generalizar para predecir la salida de nuevos datos no vistos.\n",
        "\n",
        "### Algoritmos comunes supervisados\n",
        "\n",
        "- **Árboles de Decisión (DecisionTreeClassifier)**: Algoritmo interpretable que divide el espacio de características con reglas basadas en los valores de las variables.\n",
        "- **Random Forest (RandomForestClassifier)**: Ensamble de múltiples árboles de decisión, lo que mejora la precisión y reduce el sobreajuste.\n",
        "- **Gradient Boosted Trees (GBTClassifier)**: Variante más potente que construye árboles secuencialmente, optimizando errores anteriores.\n",
        "- **Multilayer Perceptron (MLPClassifier)**: Red neuronal simple con múltiples capas, adecuada para datos no lineales.\n",
        "\n",
        "## Aprendizaje No Supervisado\n",
        "\n",
        "A diferencia del aprendizaje supervisado, el aprendizaje no supervisado no utiliza etiquetas. El objetivo es descubrir estructuras subyacentes en los datos, como agrupaciones o patrones.\n",
        "\n",
        "### Algoritmos comunes no supervisados\n",
        "\n",
        "- **K-Means**: Algoritmo de agrupamiento basado en la minimización de la distancia intra-cluster.\n",
        "- **Gaussian Mixture Models (GMM)**: Supone que los datos son una mezcla de varias distribuciones gaussianas.\n",
        "- **Power Iteration Clustering (PIC)**: Algoritmo basado en grafos y técnicas espectrales para encontrar grupos conectados.\n",
        "\n",
        "## Disponibilidad en PySpark\n",
        "\n",
        "PySpark, a través de `pyspark.ml`, ofrece implementaciones de los algoritmos antes mencionados tanto para clasificación supervisada (`classification`) como para agrupamiento no supervisado (`clustering`).\n"
      ]
    },
    {
      "cell_type": "code",
      "source": [
        "# Instalación de Java y PySpark\n",
        "!apt-get install openjdk-11-jdk -y\n",
        "!pip install pyspark\n",
        "!pip install -q kaggle\n",
        "\n",
        "# Configura las variables de entorno\n",
        "import os\n",
        "os.environ[\"JAVA_HOME\"] = \"/usr/lib/jvm/java-11-openjdk-amd64\"\n",
        "os.environ[\"KAGGLE_CONFIG_DIR\"] = \"/content\"\n",
        "\n",
        "# Subir kaggle.json manualmente\n",
        "from google.colab import files\n",
        "files.upload()"
      ],
      "metadata": {
        "colab": {
          "base_uri": "https://localhost:8080/",
          "height": 1000
        },
        "id": "fl9d3FmIPDSl",
        "outputId": "2cc7e0b4-a954-424e-fa79-24e6b4d4ad16"
      },
      "id": "fl9d3FmIPDSl",
      "execution_count": 1,
      "outputs": [
        {
          "output_type": "stream",
          "name": "stdout",
          "text": [
            "Reading package lists... Done\n",
            "Building dependency tree... Done\n",
            "Reading state information... Done\n",
            "The following additional packages will be installed:\n",
            "  fonts-dejavu-core fonts-dejavu-extra libatk-wrapper-java\n",
            "  libatk-wrapper-java-jni libxt-dev libxtst6 libxxf86dga1 openjdk-11-jre\n",
            "  x11-utils\n",
            "Suggested packages:\n",
            "  libxt-doc openjdk-11-demo openjdk-11-source visualvm mesa-utils\n",
            "The following NEW packages will be installed:\n",
            "  fonts-dejavu-core fonts-dejavu-extra libatk-wrapper-java\n",
            "  libatk-wrapper-java-jni libxt-dev libxtst6 libxxf86dga1 openjdk-11-jdk\n",
            "  openjdk-11-jre x11-utils\n",
            "0 upgraded, 10 newly installed, 0 to remove and 34 not upgraded.\n",
            "Need to get 6,920 kB of archives.\n",
            "After this operation, 16.9 MB of additional disk space will be used.\n",
            "Get:1 http://archive.ubuntu.com/ubuntu jammy/main amd64 fonts-dejavu-core all 2.37-2build1 [1,041 kB]\n",
            "Get:2 http://archive.ubuntu.com/ubuntu jammy/main amd64 fonts-dejavu-extra all 2.37-2build1 [2,041 kB]\n",
            "Get:3 http://archive.ubuntu.com/ubuntu jammy/main amd64 libxtst6 amd64 2:1.2.3-1build4 [13.4 kB]\n",
            "Get:4 http://archive.ubuntu.com/ubuntu jammy/main amd64 libxxf86dga1 amd64 2:1.1.5-0ubuntu3 [12.6 kB]\n",
            "Get:5 http://archive.ubuntu.com/ubuntu jammy/main amd64 x11-utils amd64 7.7+5build2 [206 kB]\n",
            "Get:6 http://archive.ubuntu.com/ubuntu jammy/main amd64 libatk-wrapper-java all 0.38.0-5build1 [53.1 kB]\n",
            "Get:7 http://archive.ubuntu.com/ubuntu jammy/main amd64 libatk-wrapper-java-jni amd64 0.38.0-5build1 [49.0 kB]\n",
            "Get:8 http://archive.ubuntu.com/ubuntu jammy/main amd64 libxt-dev amd64 1:1.2.1-1 [396 kB]\n",
            "Get:9 http://archive.ubuntu.com/ubuntu jammy-updates/main amd64 openjdk-11-jre amd64 11.0.27+6~us1-0ubuntu1~22.04 [214 kB]\n",
            "Get:10 http://archive.ubuntu.com/ubuntu jammy-updates/main amd64 openjdk-11-jdk amd64 11.0.27+6~us1-0ubuntu1~22.04 [2,895 kB]\n",
            "Fetched 6,920 kB in 1s (5,678 kB/s)\n",
            "Selecting previously unselected package fonts-dejavu-core.\n",
            "(Reading database ... 126102 files and directories currently installed.)\n",
            "Preparing to unpack .../0-fonts-dejavu-core_2.37-2build1_all.deb ...\n",
            "Unpacking fonts-dejavu-core (2.37-2build1) ...\n",
            "Selecting previously unselected package fonts-dejavu-extra.\n",
            "Preparing to unpack .../1-fonts-dejavu-extra_2.37-2build1_all.deb ...\n",
            "Unpacking fonts-dejavu-extra (2.37-2build1) ...\n",
            "Selecting previously unselected package libxtst6:amd64.\n",
            "Preparing to unpack .../2-libxtst6_2%3a1.2.3-1build4_amd64.deb ...\n",
            "Unpacking libxtst6:amd64 (2:1.2.3-1build4) ...\n",
            "Selecting previously unselected package libxxf86dga1:amd64.\n",
            "Preparing to unpack .../3-libxxf86dga1_2%3a1.1.5-0ubuntu3_amd64.deb ...\n",
            "Unpacking libxxf86dga1:amd64 (2:1.1.5-0ubuntu3) ...\n",
            "Selecting previously unselected package x11-utils.\n",
            "Preparing to unpack .../4-x11-utils_7.7+5build2_amd64.deb ...\n",
            "Unpacking x11-utils (7.7+5build2) ...\n",
            "Selecting previously unselected package libatk-wrapper-java.\n",
            "Preparing to unpack .../5-libatk-wrapper-java_0.38.0-5build1_all.deb ...\n",
            "Unpacking libatk-wrapper-java (0.38.0-5build1) ...\n",
            "Selecting previously unselected package libatk-wrapper-java-jni:amd64.\n",
            "Preparing to unpack .../6-libatk-wrapper-java-jni_0.38.0-5build1_amd64.deb ...\n",
            "Unpacking libatk-wrapper-java-jni:amd64 (0.38.0-5build1) ...\n",
            "Selecting previously unselected package libxt-dev:amd64.\n",
            "Preparing to unpack .../7-libxt-dev_1%3a1.2.1-1_amd64.deb ...\n",
            "Unpacking libxt-dev:amd64 (1:1.2.1-1) ...\n",
            "Selecting previously unselected package openjdk-11-jre:amd64.\n",
            "Preparing to unpack .../8-openjdk-11-jre_11.0.27+6~us1-0ubuntu1~22.04_amd64.deb ...\n",
            "Unpacking openjdk-11-jre:amd64 (11.0.27+6~us1-0ubuntu1~22.04) ...\n",
            "Selecting previously unselected package openjdk-11-jdk:amd64.\n",
            "Preparing to unpack .../9-openjdk-11-jdk_11.0.27+6~us1-0ubuntu1~22.04_amd64.deb ...\n",
            "Unpacking openjdk-11-jdk:amd64 (11.0.27+6~us1-0ubuntu1~22.04) ...\n",
            "Setting up libxtst6:amd64 (2:1.2.3-1build4) ...\n",
            "Setting up libxxf86dga1:amd64 (2:1.1.5-0ubuntu3) ...\n",
            "Setting up openjdk-11-jre:amd64 (11.0.27+6~us1-0ubuntu1~22.04) ...\n",
            "Setting up libxt-dev:amd64 (1:1.2.1-1) ...\n",
            "Setting up fonts-dejavu-core (2.37-2build1) ...\n",
            "Setting up fonts-dejavu-extra (2.37-2build1) ...\n",
            "Setting up x11-utils (7.7+5build2) ...\n",
            "Setting up openjdk-11-jdk:amd64 (11.0.27+6~us1-0ubuntu1~22.04) ...\n",
            "update-alternatives: using /usr/lib/jvm/java-11-openjdk-amd64/bin/jconsole to provide /usr/bin/jconsole (jconsole) in auto mode\n",
            "Setting up libatk-wrapper-java (0.38.0-5build1) ...\n",
            "Setting up libatk-wrapper-java-jni:amd64 (0.38.0-5build1) ...\n",
            "Processing triggers for fontconfig (2.13.1-4.2ubuntu5) ...\n",
            "Processing triggers for hicolor-icon-theme (0.17-2) ...\n",
            "Processing triggers for libc-bin (2.35-0ubuntu3.8) ...\n",
            "/sbin/ldconfig.real: /usr/local/lib/libumf.so.0 is not a symbolic link\n",
            "\n",
            "/sbin/ldconfig.real: /usr/local/lib/libtcm_debug.so.1 is not a symbolic link\n",
            "\n",
            "/sbin/ldconfig.real: /usr/local/lib/libtbbbind.so.3 is not a symbolic link\n",
            "\n",
            "/sbin/ldconfig.real: /usr/local/lib/libhwloc.so.15 is not a symbolic link\n",
            "\n",
            "/sbin/ldconfig.real: /usr/local/lib/libtbbbind_2_5.so.3 is not a symbolic link\n",
            "\n",
            "/sbin/ldconfig.real: /usr/local/lib/libtbb.so.12 is not a symbolic link\n",
            "\n",
            "/sbin/ldconfig.real: /usr/local/lib/libur_adapter_level_zero.so.0 is not a symbolic link\n",
            "\n",
            "/sbin/ldconfig.real: /usr/local/lib/libtbbmalloc.so.2 is not a symbolic link\n",
            "\n",
            "/sbin/ldconfig.real: /usr/local/lib/libtbbbind_2_0.so.3 is not a symbolic link\n",
            "\n",
            "/sbin/ldconfig.real: /usr/local/lib/libtcm.so.1 is not a symbolic link\n",
            "\n",
            "/sbin/ldconfig.real: /usr/local/lib/libur_adapter_opencl.so.0 is not a symbolic link\n",
            "\n",
            "/sbin/ldconfig.real: /usr/local/lib/libtbbmalloc_proxy.so.2 is not a symbolic link\n",
            "\n",
            "/sbin/ldconfig.real: /usr/local/lib/libur_loader.so.0 is not a symbolic link\n",
            "\n",
            "Processing triggers for man-db (2.10.2-1) ...\n",
            "Processing triggers for mailcap (3.70+nmu1ubuntu1) ...\n",
            "Requirement already satisfied: pyspark in /usr/local/lib/python3.11/dist-packages (3.5.1)\n",
            "Requirement already satisfied: py4j==0.10.9.7 in /usr/local/lib/python3.11/dist-packages (from pyspark) (0.10.9.7)\n"
          ]
        },
        {
          "output_type": "display_data",
          "data": {
            "text/plain": [
              "<IPython.core.display.HTML object>"
            ],
            "text/html": [
              "\n",
              "     <input type=\"file\" id=\"files-174ce801-0815-41eb-95be-d91179dbeb99\" name=\"files[]\" multiple disabled\n",
              "        style=\"border:none\" />\n",
              "     <output id=\"result-174ce801-0815-41eb-95be-d91179dbeb99\">\n",
              "      Upload widget is only available when the cell has been executed in the\n",
              "      current browser session. Please rerun this cell to enable.\n",
              "      </output>\n",
              "      <script>// Copyright 2017 Google LLC\n",
              "//\n",
              "// Licensed under the Apache License, Version 2.0 (the \"License\");\n",
              "// you may not use this file except in compliance with the License.\n",
              "// You may obtain a copy of the License at\n",
              "//\n",
              "//      http://www.apache.org/licenses/LICENSE-2.0\n",
              "//\n",
              "// Unless required by applicable law or agreed to in writing, software\n",
              "// distributed under the License is distributed on an \"AS IS\" BASIS,\n",
              "// WITHOUT WARRANTIES OR CONDITIONS OF ANY KIND, either express or implied.\n",
              "// See the License for the specific language governing permissions and\n",
              "// limitations under the License.\n",
              "\n",
              "/**\n",
              " * @fileoverview Helpers for google.colab Python module.\n",
              " */\n",
              "(function(scope) {\n",
              "function span(text, styleAttributes = {}) {\n",
              "  const element = document.createElement('span');\n",
              "  element.textContent = text;\n",
              "  for (const key of Object.keys(styleAttributes)) {\n",
              "    element.style[key] = styleAttributes[key];\n",
              "  }\n",
              "  return element;\n",
              "}\n",
              "\n",
              "// Max number of bytes which will be uploaded at a time.\n",
              "const MAX_PAYLOAD_SIZE = 100 * 1024;\n",
              "\n",
              "function _uploadFiles(inputId, outputId) {\n",
              "  const steps = uploadFilesStep(inputId, outputId);\n",
              "  const outputElement = document.getElementById(outputId);\n",
              "  // Cache steps on the outputElement to make it available for the next call\n",
              "  // to uploadFilesContinue from Python.\n",
              "  outputElement.steps = steps;\n",
              "\n",
              "  return _uploadFilesContinue(outputId);\n",
              "}\n",
              "\n",
              "// This is roughly an async generator (not supported in the browser yet),\n",
              "// where there are multiple asynchronous steps and the Python side is going\n",
              "// to poll for completion of each step.\n",
              "// This uses a Promise to block the python side on completion of each step,\n",
              "// then passes the result of the previous step as the input to the next step.\n",
              "function _uploadFilesContinue(outputId) {\n",
              "  const outputElement = document.getElementById(outputId);\n",
              "  const steps = outputElement.steps;\n",
              "\n",
              "  const next = steps.next(outputElement.lastPromiseValue);\n",
              "  return Promise.resolve(next.value.promise).then((value) => {\n",
              "    // Cache the last promise value to make it available to the next\n",
              "    // step of the generator.\n",
              "    outputElement.lastPromiseValue = value;\n",
              "    return next.value.response;\n",
              "  });\n",
              "}\n",
              "\n",
              "/**\n",
              " * Generator function which is called between each async step of the upload\n",
              " * process.\n",
              " * @param {string} inputId Element ID of the input file picker element.\n",
              " * @param {string} outputId Element ID of the output display.\n",
              " * @return {!Iterable<!Object>} Iterable of next steps.\n",
              " */\n",
              "function* uploadFilesStep(inputId, outputId) {\n",
              "  const inputElement = document.getElementById(inputId);\n",
              "  inputElement.disabled = false;\n",
              "\n",
              "  const outputElement = document.getElementById(outputId);\n",
              "  outputElement.innerHTML = '';\n",
              "\n",
              "  const pickedPromise = new Promise((resolve) => {\n",
              "    inputElement.addEventListener('change', (e) => {\n",
              "      resolve(e.target.files);\n",
              "    });\n",
              "  });\n",
              "\n",
              "  const cancel = document.createElement('button');\n",
              "  inputElement.parentElement.appendChild(cancel);\n",
              "  cancel.textContent = 'Cancel upload';\n",
              "  const cancelPromise = new Promise((resolve) => {\n",
              "    cancel.onclick = () => {\n",
              "      resolve(null);\n",
              "    };\n",
              "  });\n",
              "\n",
              "  // Wait for the user to pick the files.\n",
              "  const files = yield {\n",
              "    promise: Promise.race([pickedPromise, cancelPromise]),\n",
              "    response: {\n",
              "      action: 'starting',\n",
              "    }\n",
              "  };\n",
              "\n",
              "  cancel.remove();\n",
              "\n",
              "  // Disable the input element since further picks are not allowed.\n",
              "  inputElement.disabled = true;\n",
              "\n",
              "  if (!files) {\n",
              "    return {\n",
              "      response: {\n",
              "        action: 'complete',\n",
              "      }\n",
              "    };\n",
              "  }\n",
              "\n",
              "  for (const file of files) {\n",
              "    const li = document.createElement('li');\n",
              "    li.append(span(file.name, {fontWeight: 'bold'}));\n",
              "    li.append(span(\n",
              "        `(${file.type || 'n/a'}) - ${file.size} bytes, ` +\n",
              "        `last modified: ${\n",
              "            file.lastModifiedDate ? file.lastModifiedDate.toLocaleDateString() :\n",
              "                                    'n/a'} - `));\n",
              "    const percent = span('0% done');\n",
              "    li.appendChild(percent);\n",
              "\n",
              "    outputElement.appendChild(li);\n",
              "\n",
              "    const fileDataPromise = new Promise((resolve) => {\n",
              "      const reader = new FileReader();\n",
              "      reader.onload = (e) => {\n",
              "        resolve(e.target.result);\n",
              "      };\n",
              "      reader.readAsArrayBuffer(file);\n",
              "    });\n",
              "    // Wait for the data to be ready.\n",
              "    let fileData = yield {\n",
              "      promise: fileDataPromise,\n",
              "      response: {\n",
              "        action: 'continue',\n",
              "      }\n",
              "    };\n",
              "\n",
              "    // Use a chunked sending to avoid message size limits. See b/62115660.\n",
              "    let position = 0;\n",
              "    do {\n",
              "      const length = Math.min(fileData.byteLength - position, MAX_PAYLOAD_SIZE);\n",
              "      const chunk = new Uint8Array(fileData, position, length);\n",
              "      position += length;\n",
              "\n",
              "      const base64 = btoa(String.fromCharCode.apply(null, chunk));\n",
              "      yield {\n",
              "        response: {\n",
              "          action: 'append',\n",
              "          file: file.name,\n",
              "          data: base64,\n",
              "        },\n",
              "      };\n",
              "\n",
              "      let percentDone = fileData.byteLength === 0 ?\n",
              "          100 :\n",
              "          Math.round((position / fileData.byteLength) * 100);\n",
              "      percent.textContent = `${percentDone}% done`;\n",
              "\n",
              "    } while (position < fileData.byteLength);\n",
              "  }\n",
              "\n",
              "  // All done.\n",
              "  yield {\n",
              "    response: {\n",
              "      action: 'complete',\n",
              "    }\n",
              "  };\n",
              "}\n",
              "\n",
              "scope.google = scope.google || {};\n",
              "scope.google.colab = scope.google.colab || {};\n",
              "scope.google.colab._files = {\n",
              "  _uploadFiles,\n",
              "  _uploadFilesContinue,\n",
              "};\n",
              "})(self);\n",
              "</script> "
            ]
          },
          "metadata": {}
        },
        {
          "output_type": "stream",
          "name": "stdout",
          "text": [
            "Saving kaggle.json to kaggle.json\n"
          ]
        },
        {
          "output_type": "execute_result",
          "data": {
            "text/plain": [
              "{'kaggle.json': b'{\"username\":\"danielbenitezf\",\"key\":\"25722d8132805e1708bca2f5e7402b6f\"}'}"
            ]
          },
          "metadata": {},
          "execution_count": 1
        }
      ]
    },
    {
      "cell_type": "code",
      "source": [
        "# Descargar el dataset desde Kaggle (después de subir tu kaggle.json)\n",
        "!kaggle datasets download -d joebeachcapital/fifa-players\n",
        "!unzip -o fifa-players.zip -d ."
      ],
      "metadata": {
        "colab": {
          "base_uri": "https://localhost:8080/"
        },
        "id": "X7COVr77PQRJ",
        "outputId": "e0fdfc2a-44a8-4f41-cf3c-3ee578d9a74f"
      },
      "id": "X7COVr77PQRJ",
      "execution_count": 2,
      "outputs": [
        {
          "output_type": "stream",
          "name": "stdout",
          "text": [
            "Warning: Your Kaggle API key is readable by other users on this system! To fix this, you can run 'chmod 600 /content/kaggle.json'\n",
            "Dataset URL: https://www.kaggle.com/datasets/joebeachcapital/fifa-players\n",
            "License(s): other\n",
            "Downloading fifa-players.zip to /content\n",
            " 99% 1.68G/1.69G [00:12<00:00, 268MB/s]\n",
            "100% 1.69G/1.69G [00:12<00:00, 150MB/s]\n",
            "Archive:  fifa-players.zip\n",
            "  inflating: ./2024/all_players.csv  \n",
            "  inflating: ./2024/female_players.csv  \n",
            "  inflating: ./2024/male_players.csv  \n",
            "  inflating: ./female_coaches_23.csv  \n",
            "  inflating: ./female_players (legacy)_23.csv  \n",
            "  inflating: ./female_players_23.csv  \n",
            "  inflating: ./female_teams_23.csv   \n",
            "  inflating: ./fifa_2022_datasets/Career Mode female player datasets - FIFA 16-22.xlsx  \n",
            "  inflating: ./fifa_2022_datasets/Career Mode player datasets - FIFA 15-22.xlsx  \n",
            "  inflating: ./fifa_2022_datasets/female_players_16.csv  \n",
            "  inflating: ./fifa_2022_datasets/female_players_17.csv  \n",
            "  inflating: ./fifa_2022_datasets/female_players_18.csv  \n",
            "  inflating: ./fifa_2022_datasets/female_players_19.csv  \n",
            "  inflating: ./fifa_2022_datasets/female_players_20.csv  \n",
            "  inflating: ./fifa_2022_datasets/female_players_21.csv  \n",
            "  inflating: ./fifa_2022_datasets/female_players_22.csv  \n",
            "  inflating: ./fifa_2022_datasets/players_15.csv  \n",
            "  inflating: ./fifa_2022_datasets/players_16.csv  \n",
            "  inflating: ./fifa_2022_datasets/players_17.csv  \n",
            "  inflating: ./fifa_2022_datasets/players_18.csv  \n",
            "  inflating: ./fifa_2022_datasets/players_19.csv  \n",
            "  inflating: ./fifa_2022_datasets/players_20.csv  \n",
            "  inflating: ./fifa_2022_datasets/players_21.csv  \n",
            "  inflating: ./fifa_2022_datasets/players_22.csv  \n",
            "  inflating: ./male_coaches_23.csv   \n",
            "  inflating: ./male_players (legacy)_23.csv  \n",
            "  inflating: ./male_players_23.csv   \n",
            "  inflating: ./male_teams_23.csv     \n"
          ]
        }
      ]
    },
    {
      "cell_type": "code",
      "source": [
        "from pyspark.sql import SparkSession\n",
        "\n",
        "spark = SparkSession.builder.appName(\"MLFIFA\").getOrCreate()\n",
        "df = spark.read.csv(\"male_players_23.csv\", header=True, inferSchema=True)\n",
        "df.printSchema()\n",
        "df.show(5)\n"
      ],
      "metadata": {
        "colab": {
          "base_uri": "https://localhost:8080/"
        },
        "id": "93ojX93_Qze5",
        "outputId": "abf7d893-ed94-4f88-e332-5239e3f1292f"
      },
      "id": "93ojX93_Qze5",
      "execution_count": 3,
      "outputs": [
        {
          "output_type": "stream",
          "name": "stdout",
          "text": [
            "root\n",
            " |-- player_id: integer (nullable = true)\n",
            " |-- player_url: string (nullable = true)\n",
            " |-- fifa_version: integer (nullable = true)\n",
            " |-- fifa_update: integer (nullable = true)\n",
            " |-- fifa_update_date: date (nullable = true)\n",
            " |-- short_name: string (nullable = true)\n",
            " |-- long_name: string (nullable = true)\n",
            " |-- player_positions: string (nullable = true)\n",
            " |-- overall: integer (nullable = true)\n",
            " |-- potential: integer (nullable = true)\n",
            " |-- value_eur: integer (nullable = true)\n",
            " |-- wage_eur: integer (nullable = true)\n",
            " |-- age: integer (nullable = true)\n",
            " |-- dob: date (nullable = true)\n",
            " |-- height_cm: integer (nullable = true)\n",
            " |-- weight_kg: integer (nullable = true)\n",
            " |-- league_id: integer (nullable = true)\n",
            " |-- league_name: string (nullable = true)\n",
            " |-- league_level: integer (nullable = true)\n",
            " |-- club_team_id: integer (nullable = true)\n",
            " |-- club_name: string (nullable = true)\n",
            " |-- club_position: string (nullable = true)\n",
            " |-- club_jersey_number: integer (nullable = true)\n",
            " |-- club_loaned_from: string (nullable = true)\n",
            " |-- club_joined_date: date (nullable = true)\n",
            " |-- club_contract_valid_until_year: integer (nullable = true)\n",
            " |-- nationality_id: integer (nullable = true)\n",
            " |-- nationality_name: string (nullable = true)\n",
            " |-- nation_team_id: integer (nullable = true)\n",
            " |-- nation_position: string (nullable = true)\n",
            " |-- nation_jersey_number: integer (nullable = true)\n",
            " |-- preferred_foot: string (nullable = true)\n",
            " |-- weak_foot: integer (nullable = true)\n",
            " |-- skill_moves: integer (nullable = true)\n",
            " |-- international_reputation: integer (nullable = true)\n",
            " |-- work_rate: string (nullable = true)\n",
            " |-- body_type: string (nullable = true)\n",
            " |-- real_face: string (nullable = true)\n",
            " |-- release_clause_eur: integer (nullable = true)\n",
            " |-- player_tags: string (nullable = true)\n",
            " |-- player_traits: string (nullable = true)\n",
            " |-- pace: integer (nullable = true)\n",
            " |-- shooting: integer (nullable = true)\n",
            " |-- passing: integer (nullable = true)\n",
            " |-- dribbling: integer (nullable = true)\n",
            " |-- defending: integer (nullable = true)\n",
            " |-- physic: integer (nullable = true)\n",
            " |-- attacking_crossing: integer (nullable = true)\n",
            " |-- attacking_finishing: integer (nullable = true)\n",
            " |-- attacking_heading_accuracy: integer (nullable = true)\n",
            " |-- attacking_short_passing: integer (nullable = true)\n",
            " |-- attacking_volleys: integer (nullable = true)\n",
            " |-- skill_dribbling: integer (nullable = true)\n",
            " |-- skill_curve: integer (nullable = true)\n",
            " |-- skill_fk_accuracy: integer (nullable = true)\n",
            " |-- skill_long_passing: integer (nullable = true)\n",
            " |-- skill_ball_control: integer (nullable = true)\n",
            " |-- movement_acceleration: integer (nullable = true)\n",
            " |-- movement_sprint_speed: integer (nullable = true)\n",
            " |-- movement_agility: integer (nullable = true)\n",
            " |-- movement_reactions: integer (nullable = true)\n",
            " |-- movement_balance: integer (nullable = true)\n",
            " |-- power_shot_power: integer (nullable = true)\n",
            " |-- power_jumping: integer (nullable = true)\n",
            " |-- power_stamina: integer (nullable = true)\n",
            " |-- power_strength: integer (nullable = true)\n",
            " |-- power_long_shots: integer (nullable = true)\n",
            " |-- mentality_aggression: integer (nullable = true)\n",
            " |-- mentality_interceptions: integer (nullable = true)\n",
            " |-- mentality_positioning: integer (nullable = true)\n",
            " |-- mentality_vision: integer (nullable = true)\n",
            " |-- mentality_penalties: integer (nullable = true)\n",
            " |-- mentality_composure: integer (nullable = true)\n",
            " |-- defending_marking_awareness: integer (nullable = true)\n",
            " |-- defending_standing_tackle: integer (nullable = true)\n",
            " |-- defending_sliding_tackle: integer (nullable = true)\n",
            " |-- goalkeeping_diving: integer (nullable = true)\n",
            " |-- goalkeeping_handling: integer (nullable = true)\n",
            " |-- goalkeeping_kicking: integer (nullable = true)\n",
            " |-- goalkeeping_positioning: integer (nullable = true)\n",
            " |-- goalkeeping_reflexes: integer (nullable = true)\n",
            " |-- goalkeeping_speed: integer (nullable = true)\n",
            " |-- ls: string (nullable = true)\n",
            " |-- st: string (nullable = true)\n",
            " |-- rs: string (nullable = true)\n",
            " |-- lw: string (nullable = true)\n",
            " |-- lf: string (nullable = true)\n",
            " |-- cf: string (nullable = true)\n",
            " |-- rf: string (nullable = true)\n",
            " |-- rw: string (nullable = true)\n",
            " |-- lam: string (nullable = true)\n",
            " |-- cam: string (nullable = true)\n",
            " |-- ram: string (nullable = true)\n",
            " |-- lm: string (nullable = true)\n",
            " |-- lcm: string (nullable = true)\n",
            " |-- cm: string (nullable = true)\n",
            " |-- rcm: string (nullable = true)\n",
            " |-- rm: string (nullable = true)\n",
            " |-- lwb: string (nullable = true)\n",
            " |-- ldm: string (nullable = true)\n",
            " |-- cdm: string (nullable = true)\n",
            " |-- rdm: string (nullable = true)\n",
            " |-- rwb: string (nullable = true)\n",
            " |-- lb: string (nullable = true)\n",
            " |-- lcb: string (nullable = true)\n",
            " |-- cb: string (nullable = true)\n",
            " |-- rcb: string (nullable = true)\n",
            " |-- rb: string (nullable = true)\n",
            " |-- gk: string (nullable = true)\n",
            " |-- player_face_url: string (nullable = true)\n",
            "\n",
            "+---------+--------------------+------------+-----------+----------------+--------------+--------------------+----------------+-------+---------+---------+--------+---+----------+---------+---------+---------+--------------+------------+------------+-------------------+-------------+------------------+----------------+----------------+------------------------------+--------------+----------------+--------------+---------------+--------------------+--------------+---------+-----------+------------------------+-------------+----------------+---------+------------------+--------------------+--------------------+----+--------+-------+---------+---------+------+------------------+-------------------+--------------------------+-----------------------+-----------------+---------------+-----------+-----------------+------------------+------------------+---------------------+---------------------+----------------+------------------+----------------+----------------+-------------+-------------+--------------+----------------+--------------------+-----------------------+---------------------+----------------+-------------------+-------------------+---------------------------+-------------------------+------------------------+------------------+--------------------+-------------------+-----------------------+--------------------+-----------------+----+----+----+---+---+---+---+---+----+----+----+----+----+----+----+----+----+----+----+----+----+----+----+----+----+----+----+--------------------+\n",
            "|player_id|          player_url|fifa_version|fifa_update|fifa_update_date|    short_name|           long_name|player_positions|overall|potential|value_eur|wage_eur|age|       dob|height_cm|weight_kg|league_id|   league_name|league_level|club_team_id|          club_name|club_position|club_jersey_number|club_loaned_from|club_joined_date|club_contract_valid_until_year|nationality_id|nationality_name|nation_team_id|nation_position|nation_jersey_number|preferred_foot|weak_foot|skill_moves|international_reputation|    work_rate|       body_type|real_face|release_clause_eur|         player_tags|       player_traits|pace|shooting|passing|dribbling|defending|physic|attacking_crossing|attacking_finishing|attacking_heading_accuracy|attacking_short_passing|attacking_volleys|skill_dribbling|skill_curve|skill_fk_accuracy|skill_long_passing|skill_ball_control|movement_acceleration|movement_sprint_speed|movement_agility|movement_reactions|movement_balance|power_shot_power|power_jumping|power_stamina|power_strength|power_long_shots|mentality_aggression|mentality_interceptions|mentality_positioning|mentality_vision|mentality_penalties|mentality_composure|defending_marking_awareness|defending_standing_tackle|defending_sliding_tackle|goalkeeping_diving|goalkeeping_handling|goalkeeping_kicking|goalkeeping_positioning|goalkeeping_reflexes|goalkeeping_speed|  ls|  st|  rs| lw| lf| cf| rf| rw| lam| cam| ram|  lm| lcm|  cm| rcm|  rm| lwb| ldm| cdm| rdm| rwb|  lb| lcb|  cb| rcb|  rb|  gk|     player_face_url|\n",
            "+---------+--------------------+------------+-----------+----------------+--------------+--------------------+----------------+-------+---------+---------+--------+---+----------+---------+---------+---------+--------------+------------+------------+-------------------+-------------+------------------+----------------+----------------+------------------------------+--------------+----------------+--------------+---------------+--------------------+--------------+---------+-----------+------------------------+-------------+----------------+---------+------------------+--------------------+--------------------+----+--------+-------+---------+---------+------+------------------+-------------------+--------------------------+-----------------------+-----------------+---------------+-----------+-----------------+------------------+------------------+---------------------+---------------------+----------------+------------------+----------------+----------------+-------------+-------------+--------------+----------------+--------------------+-----------------------+---------------------+----------------+-------------------+-------------------+---------------------------+-------------------------+------------------------+------------------+--------------------+-------------------+-----------------------+--------------------+-----------------+----+----+----+---+---+---+---+---+----+----+----+----+----+----+----+----+----+----+----+----+----+----+----+----+----+----+----+--------------------+\n",
            "|   158023|/player/158023/li...|          23|          9|      2023-01-13|      L. Messi|Lionel Andrés Mes...|              RW|     91|       91| 54000000|  195000| 35|1987-06-24|      169|       67|       16|       Ligue 1|           1|          73|Paris Saint Germain|           RS|                30|            NULL|      2021-08-10|                          2023|            52|       Argentina|          1369|             RW|                  10|          Left|        4|          4|                       5|      Low/Low|          Unique|      Yes|          99900000|#Dribbler, #Dista...|Finesse Shot, Lon...|  81|      89|     90|       94|       34|    64|                84|                 90|                        70|                     91|               88|             95|         93|               93|                90|                93|                   87|                   76|              91|                92|              95|              86|           68|           70|            68|              91|                  44|                     40|                   93|              94|                 75|                 96|                         20|                       35|                      24|                 6|                  11|                 15|                     14|                   8|             NULL|87+3|87+3|87+3| 90| 91| 91| 91| 90|92-1|92-1|92-1|89+2|85+3|85+3|85+3|89+2|64+3|63+3|63+3|63+3|64+3|59+3|50+3|50+3|50+3|59+3|19+3|https://cdn.sofif...|\n",
            "|   165153|/player/165153/ka...|          23|          9|      2023-01-13|    K. Benzema|       Karim Benzema|          CF, ST|     91|       91| 64000000|  450000| 34|1987-12-19|      185|       81|       53|       La Liga|           1|         243|        Real Madrid|           CF|                 9|            NULL|      2009-07-09|                          2023|            18|          France|          NULL|           NULL|                NULL|         Right|        4|          4|                       4|Medium/Medium|Normal (170-185)|      Yes|         131200000|#Poacher, #Clinic...|Leadership, Fines...|  80|      88|     83|       87|       39|    78|                75|                 92|                        90|                     89|               88|             87|         82|               73|                76|                91|                   79|                   80|              78|                92|              72|              87|           79|           82|            82|              80|                  63|                     39|                   92|              89|                 84|                 90|                         43|                       24|                      18|                13|                  11|                  5|                      5|                   7|             NULL|89+2|89+2|89+2| 87| 89| 89| 89| 87|88+3|88+3|88+3|86+3|81+3|81+3|81+3|86+3|64+3|64+3|64+3|64+3|64+3|60+3|55+3|55+3|55+3|60+3|18+3|https://cdn.sofif...|\n",
            "|   188545|/player/188545/ro...|          23|          9|      2023-01-13|R. Lewandowski|  Robert Lewandowski|              ST|     91|       91| 84000000|  420000| 33|1988-08-21|      185|       81|       53|       La Liga|           1|         241|       FC Barcelona|           ST|                 9|            NULL|      2022-07-18|                          2025|            37|          Poland|          1353|             ST|                   9|         Right|        4|          4|                       5|  High/Medium|          Unique|      Yes|         172200000|#Aerial Threat, #...|Solid Player, Fin...|  75|      91|     79|       86|       44|    83|                71|                 94|                        91|                     84|               89|             85|         79|               85|                70|                89|                   76|                   75|              77|                93|              82|              91|           85|           76|            87|              84|                  81|                     49|                   94|              81|                 90|                 88|                         35|                       42|                      19|                15|                   6|                 12|                      8|                  10|             NULL|89+2|89+2|89+2| 85| 88| 88| 88| 85|85+3|85+3|85+3|83+3|80+3|80+3|80+3|83+3|64+3|66+3|66+3|66+3|64+3|61+3|60+3|60+3|60+3|61+3|19+3|https://cdn.sofif...|\n",
            "|   192985|/player/192985/ke...|          23|          9|      2023-01-13|  K. De Bruyne|     Kevin De Bruyne|         CM, CAM|     91|       91|107500000|  350000| 31|1991-06-28|      181|       75|       13|Premier League|           1|          10|    Manchester City|          RCM|                17|            NULL|      2015-08-30|                          2025|             7|         Belgium|          1325|             RF|                   7|         Right|        5|          4|                       4|  High/Medium|          Unique|      Yes|         198900000|#Dribbler, #Playm...|Injury Prone, Lea...|  74|      88|     93|       87|       63|    77|                94|                 85|                        55|                     93|               83|             87|         89|               83|                93|                90|                   76|                   73|              76|                91|              78|              92|           63|           89|            74|              91|                  75|                     64|                   88|              94|                 83|                 89|                         65|                       65|                      53|                15|                  13|                  5|                     10|                  13|             NULL|83+3|83+3|83+3| 87| 87| 87| 87| 87|89+2|89+2|89+2|88+3|89+2|89+2|89+2|88+3|78+3|79+3|79+3|79+3|78+3|74+3|68+3|68+3|68+3|74+3|21+3|https://cdn.sofif...|\n",
            "|   231747|/player/231747/ky...|          23|          9|      2023-01-13|     K. Mbappé|Kylian Mbappé Lottin|          ST, LW|     91|       95|190500000|  230000| 23|1998-12-20|      182|       73|       16|       Ligue 1|           1|          73|Paris Saint Germain|           LS|                 7|            NULL|      2018-07-01|                          2024|            18|          France|          1335|             LW|                  10|         Right|        4|          5|                       4|     High/Low|          Unique|      Yes|         366700000|#Speedster, #Drib...|Solid Player, Fla...|  97|      89|     80|       92|       36|    76|                78|                 93|                        72|                     85|               83|             93|         80|               69|                71|                91|                   97|                   97|              93|                93|              81|              88|           77|           87|            76|              82|                  64|                     38|                   92|              83|                 80|                 88|                         26|                       34|                      32|                13|                   5|                  7|                     11|                   6|             NULL|89+3|89+3|89+3| 90| 90| 90| 90| 90|89+3|89+3|89+3|89+3|81+3|81+3|81+3|89+3|67+3|63+3|63+3|63+3|67+3|63+3|54+3|54+3|54+3|63+3|18+3|https://cdn.sofif...|\n",
            "+---------+--------------------+------------+-----------+----------------+--------------+--------------------+----------------+-------+---------+---------+--------+---+----------+---------+---------+---------+--------------+------------+------------+-------------------+-------------+------------------+----------------+----------------+------------------------------+--------------+----------------+--------------+---------------+--------------------+--------------+---------+-----------+------------------------+-------------+----------------+---------+------------------+--------------------+--------------------+----+--------+-------+---------+---------+------+------------------+-------------------+--------------------------+-----------------------+-----------------+---------------+-----------+-----------------+------------------+------------------+---------------------+---------------------+----------------+------------------+----------------+----------------+-------------+-------------+--------------+----------------+--------------------+-----------------------+---------------------+----------------+-------------------+-------------------+---------------------------+-------------------------+------------------------+------------------+--------------------+-------------------+-----------------------+--------------------+-----------------+----+----+----+---+---+---+---+---+----+----+----+----+----+----+----+----+----+----+----+----+----+----+----+----+----+----+----+--------------------+\n",
            "only showing top 5 rows\n",
            "\n"
          ]
        }
      ]
    },
    {
      "cell_type": "markdown",
      "id": "0928a7cc",
      "metadata": {
        "id": "0928a7cc"
      },
      "source": [
        "# 2. Selección de los datos"
      ]
    },
    {
      "cell_type": "code",
      "execution_count": 4,
      "id": "ccf81745",
      "metadata": {
        "colab": {
          "base_uri": "https://localhost:8080/"
        },
        "id": "ccf81745",
        "outputId": "5a65aaea-2858-4c15-ba99-e2659e895770"
      },
      "outputs": [
        {
          "output_type": "stream",
          "name": "stdout",
          "text": [
            "+---------+--------------------+------------+-----------+----------------+--------------+--------------------+----------------+-------+---------+---------+--------+---+----------+---------+---------+---------+------------+------------+------------+---------------+-------------+------------------+----------------+----------------+------------------------------+--------------+----------------+--------------+---------------+--------------------+--------------+---------+-----------+------------------------+-------------+----------------+---------+------------------+-----------+-------------+----+--------+-------+---------+---------+------+------------------+-------------------+--------------------------+-----------------------+-----------------+---------------+-----------+-----------------+------------------+------------------+---------------------+---------------------+----------------+------------------+----------------+----------------+-------------+-------------+--------------+----------------+--------------------+-----------------------+---------------------+----------------+-------------------+-------------------+---------------------------+-------------------------+------------------------+------------------+--------------------+-------------------+-----------------------+--------------------+-----------------+----+----+----+---+---+---+---+---+----+----+----+----+----+----+----+----+----+----+----+----+----+----+----+----+----+----+----+--------------------+\n",
            "|player_id|          player_url|fifa_version|fifa_update|fifa_update_date|    short_name|           long_name|player_positions|overall|potential|value_eur|wage_eur|age|       dob|height_cm|weight_kg|league_id| league_name|league_level|club_team_id|      club_name|club_position|club_jersey_number|club_loaned_from|club_joined_date|club_contract_valid_until_year|nationality_id|nationality_name|nation_team_id|nation_position|nation_jersey_number|preferred_foot|weak_foot|skill_moves|international_reputation|    work_rate|       body_type|real_face|release_clause_eur|player_tags|player_traits|pace|shooting|passing|dribbling|defending|physic|attacking_crossing|attacking_finishing|attacking_heading_accuracy|attacking_short_passing|attacking_volleys|skill_dribbling|skill_curve|skill_fk_accuracy|skill_long_passing|skill_ball_control|movement_acceleration|movement_sprint_speed|movement_agility|movement_reactions|movement_balance|power_shot_power|power_jumping|power_stamina|power_strength|power_long_shots|mentality_aggression|mentality_interceptions|mentality_positioning|mentality_vision|mentality_penalties|mentality_composure|defending_marking_awareness|defending_standing_tackle|defending_sliding_tackle|goalkeeping_diving|goalkeeping_handling|goalkeeping_kicking|goalkeeping_positioning|goalkeeping_reflexes|goalkeeping_speed|  ls|  st|  rs| lw| lf| cf| rf| rw| lam| cam| ram|  lm| lcm|  cm| rcm|  rm| lwb| ldm| cdm| rdm| rwb|  lb| lcb|  cb| rcb|  rb|  gk|     player_face_url|\n",
            "+---------+--------------------+------------+-----------+----------------+--------------+--------------------+----------------+-------+---------+---------+--------+---+----------+---------+---------+---------+------------+------------+------------+---------------+-------------+------------------+----------------+----------------+------------------------------+--------------+----------------+--------------+---------------+--------------------+--------------+---------+-----------+------------------------+-------------+----------------+---------+------------------+-----------+-------------+----+--------+-------+---------+---------+------+------------------+-------------------+--------------------------+-----------------------+-----------------+---------------+-----------+-----------------+------------------+------------------+---------------------+---------------------+----------------+------------------+----------------+----------------+-------------+-------------+--------------+----------------+--------------------+-----------------------+---------------------+----------------+-------------------+-------------------+---------------------------+-------------------------+------------------------+------------------+--------------------+-------------------+-----------------------+--------------------+-----------------+----+----+----+---+---+---+---+---+----+----+----+----+----+----+----+----+----+----+----+----+----+----+----+----+----+----+----+--------------------+\n",
            "|   230032|/player/230032/ju...|          17|         84|      2017-07-27|   J. Amaluzor|Justin Ikechukwu ...|          RM, LM|     50|       61|    50000|    1000| 19|1996-10-17|      183|       73|       61|  League Two|           4|         135|         Barnet|          RES|                30|            NULL|      2015-07-01|                          2018|            14|         England|          NULL|           NULL|                NULL|          Left|        3|          2|                       1|Medium/Medium|Normal (170-185)|       No|              NULL|       NULL|         NULL|  85|      36|     37|       52|       20|    63|                37|                 37|                        36|                     42|               27|             49|         25|               24|                27|                47|                   84|                   85|              81|                43|              65|              37|           67|           70|            72|              32|                  31|                     19|                   43|              42|                 41|                 41|                         21|                       16|                      14|                 6|                   6|                  7|                      7|                   6|             NULL|46+1|46+1|46+1| 49| 47| 47| 47| 49|47+1|47+1|47+1|49+1|40+1|40+1|40+1|49+1|40+1|34+1|34+1|34+1|40+1|38+1|32+1|32+1|32+1|38+1|10+1|https://cdn.sofif...|\n",
            "|   252609|/player/252609/ja...|          20|         30|      2020-03-20|Choi Jae Young|      Jae Young Choi|             CDM|     50|       62|    50000|     800| 21|1998-03-18|      181|       73|       83|  K League 1|           1|        1474|Pohang Steelers|          SUB|                28|            NULL|      2018-12-26|                          2023|           167|  Korea Republic|          NULL|           NULL|                NULL|         Right|        3|          2|                       1|     Low/High|Normal (170-185)|       No|             73000|       NULL|         NULL|  65|      40|     47|       49|       44|    54|                40|                 35|                        49|                     52|               35|             50|         36|               35|                53|                42|                   68|                   62|              56|                48|              62|              53|           60|           59|            49|              36|                  60|                     50|                   53|              44|                 43|                 43|                         38|                       42|                      53|                 7|                  13|                  6|                     13|                   8|             NULL|48+2|48+2|48+2| 48| 48| 48| 48| 48|48+2|48+2|48+2|50+2|48+2|48+2|48+2|50+2|49+2|49+2|49+2|49+2|49+2|50+2|48+2|48+2|48+2|50+2|14+2|https://cdn.sofif...|\n",
            "|   231202|/player/231202/ju...|          17|         26|      2017-01-09|    J. Bolaños|Juan Camilo Bolañ...|              CB|     61|       74|   400000|     500| 20|1995-11-03|      180|       80|      336|Liga BetPlay|           1|      112934|       Cortuluá|          RCB|                32|            NULL|      2015-07-01|                          2020|            56|        Colombia|          NULL|           NULL|                NULL|         Right|        3|          2|                       1|Medium/Medium|Normal (170-185)|       No|              NULL|       NULL|         NULL|  59|      29|     32|       33|       61|    68|                27|                 29|                        64|                     43|               20|             21|         29|               27|                20|                38|                   64|                   54|              48|                58|              64|              36|           76|           64|            71|              21|                  62|                     51|                   31|              31|                 34|                 39|                         62|                       65|                      61|                10|                  14|                 10|                      6|                   8|             NULL|41+1|41+1|41+1| 37| 37| 37| 37| 37|36+1|36+1|36+1|38+1|38+1|38+1|38+1|38+1|51+1|50+1|50+1|50+1|51+1|54+1|60+1|60+1|60+1|54+1|15+1|https://cdn.sofif...|\n",
            "|   211371|/player/211371/ch...|          17|         27|      2017-01-12|   C. Grainger|Charlie Martin Gr...|              GK|     57|       71|   220000|    1000| 19|1996-07-31|      182|       70|       61|  League Two|           4|        1958|  Leyton Orient|          RES|                12|            NULL|      2012-07-01|                          2017|            14|         England|          NULL|           NULL|                NULL|         Right|        3|          1|                       1|Medium/Medium|Normal (170-185)|       No|              NULL|       NULL|         NULL|NULL|    NULL|   NULL|     NULL|     NULL|  NULL|                11|                 18|                        20|                     32|               18|             12|         15|               16|                36|                23|                   63|                   58|              53|                49|              61|              23|           67|           40|            52|              16|                  32|                     23|                   15|              17|                 24|                 37|                         13|                       19|                      12|                58|                  54|                 59|                     57|                  57|               60|27+1|27+1|27+1| 27| 26| 26| 26| 27|27+1|27+1|27+1|28+1|27+1|27+1|27+1|28+1|27+1|28+1|28+1|28+1|27+1|28+1|27+1|27+1|27+1|28+1|56+1|https://cdn.sofif...|\n",
            "|   255156|/player/255156/mi...|          20|         26|      2020-02-13|  M. Muratovic|     Mirza Muratovic|              ST|     56|       68|   160000|     700| 19|2000-01-14|      175|       75|      351|    A-League|           1|      111395|  Brisbane Roar|          SUB|                30|            NULL|      2019-12-28|                          2021|           195|       Australia|          NULL|           NULL|                NULL|         Right|        3|          2|                       1|  High/Medium|Normal (170-185)|       No|            232000|       NULL|         NULL|  74|      55|     42|       55|       28|    59|                41|                 57|                        55|                     44|               45|             54|         51|               40|                39|                53|                   73|                   74|              65|                47|              72|              54|           68|           63|            62|              50|                  42|                     22|                   55|              42|                 61|                 55|                         26|                       26|                      22|                11|                   8|                 10|                      8|                   9|             NULL|55+2|55+2|55+2| 54| 54| 54| 54| 54|51+2|51+2|51+2|53+2|46+2|46+2|46+2|53+2|42+2|38+2|38+2|38+2|42+2|41+2|38+2|38+2|38+2|41+2|13+2|https://cdn.sofif...|\n",
            "+---------+--------------------+------------+-----------+----------------+--------------+--------------------+----------------+-------+---------+---------+--------+---+----------+---------+---------+---------+------------+------------+------------+---------------+-------------+------------------+----------------+----------------+------------------------------+--------------+----------------+--------------+---------------+--------------------+--------------+---------+-----------+------------------------+-------------+----------------+---------+------------------+-----------+-------------+----+--------+-------+---------+---------+------+------------------+-------------------+--------------------------+-----------------------+-----------------+---------------+-----------+-----------------+------------------+------------------+---------------------+---------------------+----------------+------------------+----------------+----------------+-------------+-------------+--------------+----------------+--------------------+-----------------------+---------------------+----------------+-------------------+-------------------+---------------------------+-------------------------+------------------------+------------------+--------------------+-------------------+-----------------------+--------------------+-----------------+----+----+----+---+---+---+---+---+----+----+----+----+----+----+----+----+----+----+----+----+----+----+----+----+----+----+----+--------------------+\n",
            "only showing top 5 rows\n",
            "\n",
            "Cantidad de registros en M antes de dropna: 9000\n"
          ]
        }
      ],
      "source": [
        "\n",
        "# 2. Selección de los datos\n",
        "\n",
        "from pyspark.sql import SparkSession\n",
        "from pyspark.sql.functions import col, rand\n",
        "\n",
        "spark = SparkSession.builder.appName(\"MLFIFA\").getOrCreate()\n",
        "\n",
        "# Cargar dataset (se debe descargar previamente de Kaggle)\n",
        "df = spark.read.csv(\"male_players_23.csv\", header=True, inferSchema=True)\n",
        "\n",
        "# Aplicar reglas de particionamiento según edad y valor de mercado\n",
        "partitions = {\n",
        "    \"joven_bajo\": df.filter((col(\"age\") <= 22) & (col(\"value_eur\") <= 450000)),\n",
        "    \"joven_medio\": df.filter((col(\"age\") <= 22) & (col(\"value_eur\") > 450000) & (col(\"value_eur\") <= 1200000)),\n",
        "    \"joven_alto\": df.filter((col(\"age\") <= 22) & (col(\"value_eur\") > 1200000)),\n",
        "    \"adulto_bajo\": df.filter((col(\"age\") > 22) & (col(\"age\") <= 27) & (col(\"value_eur\") <= 450000)),\n",
        "    \"adulto_medio\": df.filter((col(\"age\") > 22) & (col(\"age\") <= 27) & (col(\"value_eur\") > 450000) & (col(\"value_eur\") <= 1200000)),\n",
        "    \"adulto_alto\": df.filter((col(\"age\") > 22) & (col(\"age\") <= 27) & (col(\"value_eur\") > 1200000)),\n",
        "    \"veterano_bajo\": df.filter((col(\"age\") >= 28) & (col(\"value_eur\") <= 450000)),\n",
        "    \"veterano_medio\": df.filter((col(\"age\") >= 28) & (col(\"value_eur\") > 450000) & (col(\"value_eur\") <= 1200000)),\n",
        "    \"veterano_alto\": df.filter((col(\"age\") >= 28) & (col(\"value_eur\") > 1200000))\n",
        "}\n",
        "\n",
        "# Muestreo simple o sistemático según categoría\n",
        "from functools import reduce\n",
        "from pyspark.sql import DataFrame\n",
        "\n",
        "muestras = [\n",
        "    partitions[\"joven_bajo\"].orderBy(rand()).limit(1000),\n",
        "    partitions[\"joven_medio\"].orderBy(rand()).limit(1000),\n",
        "    partitions[\"joven_alto\"].orderBy(\"potential\").limit(1000),\n",
        "    partitions[\"adulto_bajo\"].orderBy(rand()).limit(1000),\n",
        "    partitions[\"adulto_medio\"].orderBy(rand()).limit(1000),\n",
        "    partitions[\"adulto_alto\"].orderBy(\"value_eur\").limit(1000),\n",
        "    partitions[\"veterano_bajo\"].orderBy(rand()).limit(1000),\n",
        "    partitions[\"veterano_medio\"].orderBy(rand()).limit(1000),\n",
        "    partitions[\"veterano_alto\"].orderBy(\"overall\").limit(1000)\n",
        "]\n",
        "\n",
        "M = reduce(DataFrame.unionAll, muestras)\n",
        "M.show(5)\n",
        "\n",
        "\n",
        "initial_count_M = M.count()\n",
        "print(f\"Cantidad de registros en M antes de dropna: {initial_count_M}\")"
      ]
    },
    {
      "cell_type": "code",
      "source": [
        "from pyspark.sql.functions import col, sum, isnan\n",
        "from pyspark.sql.functions import rand\n",
        "\n",
        "M = M.orderBy(rand()).limit(1000)\n",
        "\n",
        "\n",
        "M.select([sum(col(c).isNull().cast(\"int\")).alias(c) for c in M.columns]).show()\n",
        "\n",
        "\n",
        "columns_required = [\"age\", \"value_eur\", \"overall\", \"potential\", \"pace\", \"shooting\",\n",
        "                    \"passing\", \"dribbling\", \"defending\", \"physic\", \"preferred_foot\"]\n",
        "\n",
        "M = M.dropna(subset=columns_required)\n",
        "\n",
        "print(\"Cantidad de registros tras dropna de columnas clave:\", M.count())"
      ],
      "metadata": {
        "colab": {
          "base_uri": "https://localhost:8080/"
        },
        "id": "YXgu3WSEvMLU",
        "outputId": "5d4eecbf-4cc3-4fc1-9d05-55e9f054143c"
      },
      "id": "YXgu3WSEvMLU",
      "execution_count": 5,
      "outputs": [
        {
          "output_type": "stream",
          "name": "stdout",
          "text": [
            "+---------+----------+------------+-----------+----------------+----------+---------+----------------+-------+---------+---------+--------+---+---+---------+---------+---------+-----------+------------+------------+---------+-------------+------------------+----------------+----------------+------------------------------+--------------+----------------+--------------+---------------+--------------------+--------------+---------+-----------+------------------------+---------+---------+---------+------------------+-----------+-------------+----+--------+-------+---------+---------+------+------------------+-------------------+--------------------------+-----------------------+-----------------+---------------+-----------+-----------------+------------------+------------------+---------------------+---------------------+----------------+------------------+----------------+----------------+-------------+-------------+--------------+----------------+--------------------+-----------------------+---------------------+----------------+-------------------+-------------------+---------------------------+-------------------------+------------------------+------------------+--------------------+-------------------+-----------------------+--------------------+-----------------+---+---+---+---+---+---+---+---+---+---+---+---+---+---+---+---+---+---+---+---+---+---+---+---+---+---+---+---------------+\n",
            "|player_id|player_url|fifa_version|fifa_update|fifa_update_date|short_name|long_name|player_positions|overall|potential|value_eur|wage_eur|age|dob|height_cm|weight_kg|league_id|league_name|league_level|club_team_id|club_name|club_position|club_jersey_number|club_loaned_from|club_joined_date|club_contract_valid_until_year|nationality_id|nationality_name|nation_team_id|nation_position|nation_jersey_number|preferred_foot|weak_foot|skill_moves|international_reputation|work_rate|body_type|real_face|release_clause_eur|player_tags|player_traits|pace|shooting|passing|dribbling|defending|physic|attacking_crossing|attacking_finishing|attacking_heading_accuracy|attacking_short_passing|attacking_volleys|skill_dribbling|skill_curve|skill_fk_accuracy|skill_long_passing|skill_ball_control|movement_acceleration|movement_sprint_speed|movement_agility|movement_reactions|movement_balance|power_shot_power|power_jumping|power_stamina|power_strength|power_long_shots|mentality_aggression|mentality_interceptions|mentality_positioning|mentality_vision|mentality_penalties|mentality_composure|defending_marking_awareness|defending_standing_tackle|defending_sliding_tackle|goalkeeping_diving|goalkeeping_handling|goalkeeping_kicking|goalkeeping_positioning|goalkeeping_reflexes|goalkeeping_speed| ls| st| rs| lw| lf| cf| rf| rw|lam|cam|ram| lm|lcm| cm|rcm| rm|lwb|ldm|cdm|rdm|rwb| lb|lcb| cb|rcb| rb| gk|player_face_url|\n",
            "+---------+----------+------------+-----------+----------------+----------+---------+----------------+-------+---------+---------+--------+---+---+---------+---------+---------+-----------+------------+------------+---------+-------------+------------------+----------------+----------------+------------------------------+--------------+----------------+--------------+---------------+--------------------+--------------+---------+-----------+------------------------+---------+---------+---------+------------------+-----------+-------------+----+--------+-------+---------+---------+------+------------------+-------------------+--------------------------+-----------------------+-----------------+---------------+-----------+-----------------+------------------+------------------+---------------------+---------------------+----------------+------------------+----------------+----------------+-------------+-------------+--------------+----------------+--------------------+-----------------------+---------------------+----------------+-------------------+-------------------+---------------------------+-------------------------+------------------------+------------------+--------------------+-------------------+-----------------------+--------------------+-----------------+---+---+---+---+---+---+---+---+---+---+---+---+---+---+---+---+---+---+---+---+---+---+---+---+---+---+---+---------------+\n",
            "|        0|         0|           0|          0|               0|         0|        0|               0|      0|        0|        0|       0|  0|  0|        0|        0|        0|          0|           5|           0|        0|            0|                 0|             944|              56|                             0|             0|               0|           990|            990|                 990|             0|        0|          0|                       0|        0|        0|        0|               304|        948|          560|  98|      98|     98|       98|       98|    98|                 0|                  0|                         0|                      0|                0|              0|          0|                0|                 0|                 0|                    0|                    0|               0|                 0|               0|               0|            0|            0|             0|               0|                   0|                      0|                    0|               0|                  0|                161|                          0|                        0|                       0|                 0|                   0|                  0|                      0|                   0|              902|  0|  0|  0|  0|  0|  0|  0|  0|  0|  0|  0|  0|  0|  0|  0|  0|  0|  0|  0|  0|  0|  0|  0|  0|  0|  0|  0|              0|\n",
            "+---------+----------+------------+-----------+----------------+----------+---------+----------------+-------+---------+---------+--------+---+---+---------+---------+---------+-----------+------------+------------+---------+-------------+------------------+----------------+----------------+------------------------------+--------------+----------------+--------------+---------------+--------------------+--------------+---------+-----------+------------------------+---------+---------+---------+------------------+-----------+-------------+----+--------+-------+---------+---------+------+------------------+-------------------+--------------------------+-----------------------+-----------------+---------------+-----------+-----------------+------------------+------------------+---------------------+---------------------+----------------+------------------+----------------+----------------+-------------+-------------+--------------+----------------+--------------------+-----------------------+---------------------+----------------+-------------------+-------------------+---------------------------+-------------------------+------------------------+------------------+--------------------+-------------------+-----------------------+--------------------+-----------------+---+---+---+---+---+---+---+---+---+---+---+---+---+---+---+---+---+---+---+---+---+---+---+---+---+---+---+---------------+\n",
            "\n",
            "Cantidad de registros tras dropna de columnas clave: 902\n"
          ]
        }
      ]
    },
    {
      "cell_type": "markdown",
      "id": "5f7d7f72",
      "metadata": {
        "id": "5f7d7f72"
      },
      "source": [
        "# 3. Preparación de los datos"
      ]
    },
    {
      "cell_type": "code",
      "execution_count": 6,
      "id": "c1bcc073",
      "metadata": {
        "colab": {
          "base_uri": "https://localhost:8080/"
        },
        "id": "c1bcc073",
        "outputId": "924f8785-9bb4-4bfb-a8bf-bd3851dbc7ce"
      },
      "outputs": [
        {
          "output_type": "stream",
          "name": "stdout",
          "text": [
            "Cantidad de registros en M después de transformaciones: 902\n",
            "+-------+--------------------+\n",
            "|overall|            features|\n",
            "+-------+--------------------+\n",
            "|     61|[21.0,71.0,325000...|\n",
            "|     69|[21.0,69.0,150000...|\n",
            "|     69|[21.0,69.0,170000...|\n",
            "|     50|[18.0,66.0,20000....|\n",
            "|     66|[24.0,72.0,130000...|\n",
            "+-------+--------------------+\n",
            "only showing top 5 rows\n",
            "\n"
          ]
        }
      ],
      "source": [
        "\n",
        "# 3. Preparación de los datos\n",
        "\n",
        "from pyspark.ml.feature import StringIndexer, VectorAssembler\n",
        "\n",
        "\n",
        "# Indexar variable categórica\n",
        "indexer = StringIndexer(inputCol=\"preferred_foot\", outputCol=\"foot_indexed\")\n",
        "# Checar si M esta vacia antes de pasar el indexer\n",
        "if M.count() == 0:\n",
        "    print(\"DataFrame M is empty after dropping nulls. Cannot fit StringIndexer.\")\n",
        "else:\n",
        "    M = indexer.fit(M).transform(M)\n",
        "\n",
        "# VectorAssembler para las variables predictoras\n",
        "features = [\"age\", \"potential\", \"value_eur\", \"pace\", \"shooting\", \"passing\", \"dribbling\", \"defending\", \"physic\", \"foot_indexed\"]\n",
        "assembler = VectorAssembler(inputCols=features, outputCol=\"features\")\n",
        "# Checar si M esta vacia transofrmar con assembler\n",
        "if M.count() == 0:\n",
        "    print(\"DataFrame M is empty after StringIndexer. Cannot apply VectorAssembler.\")\n",
        "else:\n",
        "    M = assembler.transform(M)\n",
        "\n",
        "print(\"Cantidad de registros en M después de transformaciones:\", M.count())\n",
        "# Solo despliega si M no esta vacia\n",
        "if M.count() > 0:\n",
        "    M.select(\"overall\", \"features\").show(5)\n"
      ]
    },
    {
      "cell_type": "markdown",
      "id": "02e24943",
      "metadata": {
        "id": "02e24943"
      },
      "source": [
        "# 4. Preparación del conjunto de entrenamiento y prueba"
      ]
    },
    {
      "cell_type": "code",
      "execution_count": 8,
      "id": "9e700921",
      "metadata": {
        "colab": {
          "base_uri": "https://localhost:8080/"
        },
        "id": "9e700921",
        "outputId": "83252733-6002-4198-b646-d297317a5226"
      },
      "outputs": [
        {
          "output_type": "stream",
          "name": "stdout",
          "text": [
            "Cantidad de registros en train: 668\n",
            "Cantidad de registros en test: 234\n"
          ]
        }
      ],
      "source": [
        "\n",
        "# 4. División en entrenamiento y prueba\n",
        "\n",
        "train, test = M.randomSplit([0.7, 0.3], seed=42)\n",
        "\n",
        "print(f\"Cantidad de registros en train: {train.count()}\")\n",
        "print(f\"Cantidad de registros en test: {test.count()}\")\n",
        "\n"
      ]
    },
    {
      "cell_type": "markdown",
      "id": "1936f23e",
      "metadata": {
        "id": "1936f23e"
      },
      "source": [
        "# 5. Construcción de modelos de aprendizaje supervisado y no supervisado"
      ]
    },
    {
      "cell_type": "code",
      "execution_count": 9,
      "id": "c9e492ea",
      "metadata": {
        "colab": {
          "base_uri": "https://localhost:8080/"
        },
        "id": "c9e492ea",
        "outputId": "ea4d2d20-117c-4db4-9eb3-0424dc23b845"
      },
      "outputs": [
        {
          "output_type": "stream",
          "name": "stdout",
          "text": [
            "Precisión (Accuracy) del modelo supervisado: 0.5085470085470085\n",
            "+----------+\n",
            "|prediction|\n",
            "+----------+\n",
            "|         3|\n",
            "|         2|\n",
            "|         2|\n",
            "|         3|\n",
            "|         1|\n",
            "+----------+\n",
            "only showing top 5 rows\n",
            "\n"
          ]
        }
      ],
      "source": [
        "\n",
        "# 5.1 Aprendizaje Supervisado - Random Forest\n",
        "\n",
        "from pyspark.ml.classification import RandomForestClassifier\n",
        "from pyspark.ml.evaluation import MulticlassClassificationEvaluator\n",
        "\n",
        "rf = RandomForestClassifier(labelCol=\"overall\", featuresCol=\"features\", numTrees=10)\n",
        "modelo_rf = rf.fit(train)\n",
        "predicciones = modelo_rf.transform(test)\n",
        "\n",
        "evaluador = MulticlassClassificationEvaluator(labelCol=\"overall\", predictionCol=\"prediction\", metricName=\"accuracy\")\n",
        "accuracy = evaluador.evaluate(predicciones)\n",
        "print(\"Precisión (Accuracy) del modelo supervisado:\", accuracy)\n",
        "\n",
        "# 5.2 Aprendizaje No Supervisado - KMeans\n",
        "\n",
        "from pyspark.ml.clustering import KMeans\n",
        "\n",
        "kmeans = KMeans(k=4, featuresCol=\"features\", seed=42)\n",
        "modelo_kmeans = kmeans.fit(M)\n",
        "clusters = modelo_kmeans.transform(M)\n",
        "clusters.select(\"prediction\").show(5)\n"
      ]
    },
    {
      "cell_type": "markdown",
      "id": "0b1a819e",
      "metadata": {
        "id": "0b1a819e"
      },
      "source": [
        "## Conclusiones\n",
        "\n",
        "Este notebook demuestra cómo construir un flujo completo de Machine Learning en PySpark con FIFA 23, aplicando tanto aprendizaje supervisado como no supervisado, respetando las técnicas de muestreo y segmentación detalladas en el proyecto."
      ]
    }
  ],
  "metadata": {
    "colab": {
      "provenance": []
    },
    "language_info": {
      "name": "python"
    },
    "kernelspec": {
      "name": "python3",
      "display_name": "Python 3"
    }
  },
  "nbformat": 4,
  "nbformat_minor": 5
}